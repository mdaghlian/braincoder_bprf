{
 "cells": [
  {
   "cell_type": "code",
   "execution_count": null,
   "id": "f5c23c2a",
   "metadata": {},
   "outputs": [],
   "source": [
    "%load_ext autoreload\n",
    "%autoreload 2\n",
    "from scipy import io\n",
    "import matplotlib.pyplot as plt\n",
    "import numpy as np\n",
    "import pandas as pd\n",
    "import seaborn as sns\n",
    "# from dag_prf_utils.plot_functions import *\n",
    "%matplotlib inline\n",
    "\n",
    "import tensorflow as tf\n",
    "tf.config.list_physical_devices('GPU')"
   ]
  },
  {
   "cell_type": "code",
   "execution_count": 8,
   "id": "7930fb26",
   "metadata": {},
   "outputs": [],
   "source": [
    "dm = io.loadmat('GazeCenterFS_vd.mat')['stim']\n",
    "\n",
    "# braincoder convention is time by x by y\n",
    "paradigm = np.rollaxis(dm, 2, 0)\n",
    "aspect_ratio = paradigm.shape[2] / paradigm.shape[1]\n",
    "\n",
    "x, y = np.meshgrid(np.linspace(-.75, .75, 3), np.linspace(-aspect_ratio *.75, aspect_ratio *.75, 3))"
   ]
  },
  {
   "cell_type": "code",
   "execution_count": 9,
   "id": "57d36629",
   "metadata": {},
   "outputs": [],
   "source": [
    "parameters = pd.DataFrame({'x':x.ravel(),\n",
    "               'y':y.ravel(),\n",
    "               'sd':.2,\n",
    "               'amplitude':1,\n",
    "               'baseline':0.0}).astype(np.float32)\n",
    "\n",
    "y_grid, x_grid = np.meshgrid(np.linspace(-aspect_ratio, aspect_ratio, paradigm.shape[2]), \n",
    "                              np.linspace(-1., 1., paradigm.shape[1]))\n",
    "\n",
    "grid_coordinates = np.stack((x_grid.ravel().astype(np.float32), y_grid.ravel().astype(np.float32)), 1)\n",
    "\n",
    "y_grid, x_grid = np.meshgrid(np.linspace(-aspect_ratio, aspect_ratio, paradigm.shape[2]), \n",
    "                              np.linspace(-1., 1., paradigm.shape[1]))\n",
    "\n",
    "grid_coordinates = np.stack((x_grid.ravel().astype(np.float32), y_grid.ravel().astype(np.float32)), 1)"
   ]
  },
  {
   "cell_type": "code",
   "execution_count": 10,
   "id": "39f40d29",
   "metadata": {},
   "outputs": [],
   "source": [
    "from braincoder.models import GaussianPRF2DWithHRF\n",
    "from braincoder.hrf import SPMHRFModel"
   ]
  },
  {
   "cell_type": "code",
   "execution_count": 11,
   "id": "ad142248",
   "metadata": {},
   "outputs": [],
   "source": [
    "model = GaussianPRF2DWithHRF(grid_coordinates, \n",
    "                      paradigm=paradigm,\n",
    "                     parameters=parameters,\n",
    "                      hrf_model=SPMHRFModel(tr=1.7))"
   ]
  },
  {
   "cell_type": "code",
   "execution_count": null,
   "id": "bd8cdf3b",
   "metadata": {},
   "outputs": [],
   "source": [
    "for i in np.arange(9):\n",
    "    plt.subplot(3, 3, i+1)\n",
    "    plt.imshow(model.get_rf()[i].reshape((240, 135)).T)\n",
    "    plt.axis(\"off\")"
   ]
  },
  {
   "cell_type": "markdown",
   "id": "71bb7750",
   "metadata": {},
   "source": [
    "## Predictions (no noise)"
   ]
  },
  {
   "cell_type": "code",
   "execution_count": null,
   "id": "000f8f9a",
   "metadata": {},
   "outputs": [],
   "source": [
    "pred = model.predict()\n",
    "pred.plot(legend=False)"
   ]
  },
  {
   "cell_type": "markdown",
   "id": "2789e1b6",
   "metadata": {},
   "source": [
    "## Noisy predictions"
   ]
  },
  {
   "cell_type": "code",
   "execution_count": null,
   "id": "2fa5e5f9",
   "metadata": {},
   "outputs": [],
   "source": [
    "data = model.simulate(noise=2)\n",
    "data.plot(legend=False)\n",
    "sns.despine()"
   ]
  },
  {
   "cell_type": "markdown",
   "id": "f8671197",
   "metadata": {},
   "source": [
    "# Estimate parameters"
   ]
  },
  {
   "cell_type": "code",
   "execution_count": null,
   "id": "985286bb",
   "metadata": {},
   "outputs": [],
   "source": [
    "from braincoder.optimize import ParameterFitter\n",
    "from braincoder.bprf_mcmc import BPRF"
   ]
  },
  {
   "cell_type": "code",
   "execution_count": null,
   "id": "ffba949b",
   "metadata": {},
   "outputs": [],
   "source": [
    "model = GaussianPRF2DWithHRF(grid_coordinates, \n",
    "                      paradigm=paradigm,\n",
    "                     parameters=parameters,\n",
    "                      hrf_model=SPMHRFModel(tr=1.7))\n",
    "cfitter = ParameterFitter(model, data, paradigm)\n",
    "\n",
    "\n",
    "grid_pars = cfitter.fit_grid(x=np.linspace(-1, 1, 20), \n",
    "                            y=np.linspace(-aspect_ratio, aspect_ratio, 20),\n",
    "                            sd=np.linspace(0.01, 1., 10),\n",
    "                            baseline=[0.0],\n",
    "                            amplitude=[1.0],\n",
    "                            use_correlation_cost=True)\n",
    "ols_pars = cfitter.refine_baseline_and_amplitude(grid_pars)\n",
    "refined_pars = cfitter.fit(init_pars=ols_pars)"
   ]
  },
  {
   "cell_type": "code",
   "execution_count": null,
   "id": "0a90ecc0",
   "metadata": {},
   "outputs": [],
   "source": [
    "cfitter.get_rsq(refined_pars)"
   ]
  },
  {
   "cell_type": "code",
   "execution_count": null,
   "id": "57dba087",
   "metadata": {},
   "outputs": [],
   "source": [
    "idx = 0\n",
    "from braincoder.utils.visualize import quick_plot\n",
    "quick_plot(\n",
    "    model=model, \n",
    "    parameters=refined_pars.iloc[idx,:],\n",
    "    data=data.iloc[:,idx]\n",
    ")"
   ]
  },
  {
   "cell_type": "code",
   "execution_count": null,
   "id": "c6965b0e",
   "metadata": {},
   "outputs": [],
   "source": [
    "240*135"
   ]
  },
  {
   "cell_type": "markdown",
   "id": "8bfc4c0f",
   "metadata": {},
   "source": [
    "# MCMC Gaussian"
   ]
  },
  {
   "cell_type": "code",
   "execution_count": 19,
   "id": "e76c5724",
   "metadata": {},
   "outputs": [],
   "source": [
    "bounds = {\n",
    "    'x' : [-1, 1],\n",
    "    'y' : [-1, 1],\n",
    "    'sd' : [0, 10],\n",
    "    'baseline' : [-1,1],\n",
    "    'amplitude' : [0, 10], \n",
    "}\n",
    "\n",
    "n_vx = parameters.shape[0]\n",
    "init_pars = pd.DataFrame({    \n",
    "    'x' : np.zeros(n_vx),\n",
    "    'y' : np.zeros(n_vx),\n",
    "    'sd' : np.ones(n_vx),\n",
    "    'amplitude' : np.ones(n_vx),\n",
    "    'baseline' : np.zeros(n_vx),\n",
    "})\n",
    "\n",
    "\n",
    "bfitter = BPRF(model=model, data=data, )\n",
    "# # bfitter.add_prior(\n",
    "# #     pid='x', prior_type='normal', loc=0, scale=5\n",
    "# # )\n",
    "# # bfitter.add_prior(\n",
    "# #     pid='y', prior_type='normal', loc=0, scale=5\n",
    "# # )\n",
    "# # bfitter.add_prior(\n",
    "# #     pid='sd', prior_type='uniform', vmin=0, vmax=10\n",
    "# # )\n",
    "# # bfitter.add_prior(\n",
    "# #     pid='amplitude', prior_type='uniform', vmin=0, vmax=100\n",
    "# # )\n",
    "\n",
    "# # bfitter.add_prior(\n",
    "# #     pid='baseline', prior_type='uniform', vmin=-1, vmax=1\n",
    "# # )\n",
    "# bfitter.add_bijector(\n",
    "#     'x', 'sigmoid', low=-1, high=1\n",
    "# )\n",
    "# bfitter.add_bijector(\n",
    "#     'y', 'sigmoid', low=-1, high=1\n",
    "# )\n",
    "bfitter.prep_for_fitting()\n"
   ]
  },
  {
   "cell_type": "code",
   "execution_count": null,
   "id": "f5d68d61",
   "metadata": {},
   "outputs": [],
   "source": [
    "idx = 0\n",
    "num_results = 50\n",
    "tf.random.set_seed(1)\n",
    "bfitter.fit(\n",
    "    idx=idx,\n",
    "    init_pars=init_pars,\n",
    "    num_results=num_results,\n",
    ")\n",
    "# tf.random.set_seed(1)\n",
    "# bfitterL.fit(\n",
    "#     idx=idx,\n",
    "#     init_pars=init_pars,\n",
    "#     num_results=num_results,         \n",
    "# )"
   ]
  },
  {
   "cell_type": "code",
   "execution_count": null,
   "id": "40d870eb",
   "metadata": {},
   "outputs": [],
   "source": [
    "# Lets compare...\n",
    "p = 'amplitude'\n",
    "# plt.plot(\n",
    "#     bfitterL.mcmc_sampler[idx][p],\n",
    "#     color='r', label='latent versions')\n",
    "plt.plot(\n",
    "    bfitter.mcmc_sampler[idx][p],\n",
    "    color='g',) #label='no bijector versions')\n",
    "plt.axhline(\n",
    "    parameters[p][idx], color='k'\n",
    ")\n",
    "plt.legend()"
   ]
  },
  {
   "cell_type": "code",
   "execution_count": null,
   "id": "da35fd50",
   "metadata": {},
   "outputs": [],
   "source": [
    "rsq = bfitter.get_rsq_for_idx(\n",
    "    idx=idx, parameters=bfitter.mcmc_sampler[idx],\n",
    ")\n",
    "\n",
    "rsq_cols = dag_get_col_vals(\n",
    "    rsq, cmap='RdBu_r', vmin=-1, vmax=1,\n",
    "    )\n",
    "rsq"
   ]
  },
  {
   "cell_type": "code",
   "execution_count": null,
   "id": "efa41642",
   "metadata": {},
   "outputs": [],
   "source": [
    "idx = 0\n",
    "burn_in = 0\n",
    "sns_plot = sns.pairplot(\n",
    "    bfitter.mcmc_sampler[idx].iloc[burn_in:,:],\n",
    "    plot_kws={'color':rsq_cols[burn_in:,:]},\n",
    "    # corner=True, \n",
    "    diag_kind='kde'\n",
    ")\n",
    "sns_plot.map_lower(sns.kdeplot, levels=4, color=0.2)\n",
    "from dag_prf_utils.plot_functions import *\n",
    "# sns_plot.\n",
    "edit_pair_plot(\n",
    "    sns_plot.axes, lines_dict=parameters.iloc[idx,:].to_dict(), color='g', linestyle=':', lw=4, label='Truth'\n",
    ")\n",
    "edit_pair_plot(\n",
    "    sns_plot.axes, lim_dict=bounds,\n",
    ")\n",
    "# edit_pair_plot(\n",
    "#     sns_plot.axes, lines_dict=init_pars.iloc[idx,:].to_dict(), color='c', linestyle=':', lw=4,\n",
    "# )\n",
    "# edit_pair_plot(\n",
    "#     sns_plot.axes, lines_dict=refined_pars.iloc[idx,:].to_dict(), color='r', linestyle=':', lw=4,\n",
    "# )\n",
    "plt.legend()\n",
    "plt.show()"
   ]
  },
  {
   "cell_type": "code",
   "execution_count": null,
   "id": "92263438",
   "metadata": {},
   "outputs": [],
   "source": [
    "p = 'sd'\n",
    "plt.plot(bfitter.mcmc_sampler[idx][p])\n",
    "plt.axhline(parameters.iloc[idx][p], c='r')"
   ]
  },
  {
   "cell_type": "markdown",
   "id": "c5702f13",
   "metadata": {},
   "source": [
    "# Mexican hat model"
   ]
  },
  {
   "cell_type": "code",
   "execution_count": 27,
   "id": "e778d5b5",
   "metadata": {},
   "outputs": [],
   "source": [
    "from braincoder.models import DifferenceOfGaussiansPRF2DWithHRF"
   ]
  },
  {
   "cell_type": "code",
   "execution_count": null,
   "id": "f0ca6fc6",
   "metadata": {},
   "outputs": [],
   "source": [
    "parameters_dog = pd.DataFrame({'x':x.ravel(),\n",
    "               'y':y.ravel(),\n",
    "               'sd':.2,\n",
    "               'amplitude':0.3,\n",
    "               'baseline':0.0,\n",
    "               'srf_amplitude':.4, \n",
    "               'srf_size':2}).astype(np.float32)\n",
    "model_dog = DifferenceOfGaussiansPRF2DWithHRF(grid_coordinates, paradigm, parameters=parameters_dog,\n",
    "                                             hrf_model=SPMHRFModel(tr=1.8))\n",
    "pred_dog = model_dog.predict()\n",
    "pred_dog.plot()"
   ]
  },
  {
   "cell_type": "code",
   "execution_count": null,
   "id": "c7199510",
   "metadata": {},
   "outputs": [],
   "source": [
    "data_dog = model_dog.simulate(noise=.1)\n",
    "data_dog.plot(legend=False)\n",
    "sns.despine()"
   ]
  },
  {
   "cell_type": "code",
   "execution_count": 33,
   "id": "3999a711",
   "metadata": {},
   "outputs": [],
   "source": [
    "fitter_dog = ParameterFitter(model_dog, data_dog, paradigm)"
   ]
  },
  {
   "cell_type": "code",
   "execution_count": 34,
   "id": "da543426",
   "metadata": {},
   "outputs": [],
   "source": [
    "init_pars_dog = refined_pars.copy()\n",
    "init_pars_dog['srf_amplitude'] = 0.1\n",
    "init_pars_dog['srf_size'] = 2."
   ]
  },
  {
   "cell_type": "code",
   "execution_count": null,
   "id": "aba492bd",
   "metadata": {},
   "outputs": [],
   "source": [
    "est_pars_dog = fitter_dog.fit(\n",
    "    init_pars=init_pars_dog, learning_rate=0.001,\n",
    "    max_n_iterations=5000,\n",
    "    )"
   ]
  },
  {
   "cell_type": "code",
   "execution_count": null,
   "id": "85b11ec2",
   "metadata": {},
   "outputs": [],
   "source": [
    "idx = 0\n",
    "est_pred = model_dog.predict(parameters=est_pars_dog)\n",
    "est_pred[idx].plot()\n",
    "data_dog[idx].plot()\n",
    "print(est_pars_dog.iloc[idx,:])\n",
    "print(parameters_dog.iloc[idx,:])\n"
   ]
  },
  {
   "cell_type": "markdown",
   "id": "c2e8b765",
   "metadata": {},
   "source": [
    "# MCMC - DOG"
   ]
  },
  {
   "cell_type": "code",
   "execution_count": 69,
   "id": "e29b7103",
   "metadata": {},
   "outputs": [],
   "source": [
    "bounds_dog = {\n",
    "    'x' : [-5, 5],\n",
    "    'y' : [-5, 5],\n",
    "    'sd' : [0, 10],\n",
    "    'baseline' : [-2,2],\n",
    "    'amplitude' : [0,100], \n",
    "    'srf_amplitude': [0, 10],\n",
    "    'srf_size' : [1, 10],\n",
    "\n",
    "}\n",
    "\n",
    "n_vx = parameters_dog.shape[0]\n",
    "init_pars_dog = pd.DataFrame({    \n",
    "    'x' : np.zeros(n_vx),\n",
    "    'y' : np.zeros(n_vx),\n",
    "    'sd' : np.zeros(n_vx)+1,\n",
    "    'baseline' : np.zeros(n_vx),\n",
    "    'amplitude' : np.zeros(n_vx) + 1,\n",
    "    'srf_amplitude' : np.zeros(n_vx) + .5,\n",
    "    'srf_size' : np.zeros(n_vx) + 2,\n",
    "\n",
    "})\n",
    "bfitter_dog = BPRF(model=model_dog, data=data_dog, )\n",
    "# for p in ['sd', 'amplitude', 'srf_amplitude', 'srf_size']:\n",
    "#     bfitter_dog.add_bijector(\n",
    "#         pid=p, bijector_type='sigmoid', vmin=bounds_dog[p][0], vmax=bounds_dog[p][1]\n",
    "        \n",
    "#     )\n",
    "bfitter_dog.add_priors_from_bounds(bounds_dog, ) #prior_type='latent_uniform')\n",
    "bfitter_dog.prep_for_fitting()"
   ]
  },
  {
   "cell_type": "code",
   "execution_count": null,
   "id": "61370cfd",
   "metadata": {},
   "outputs": [],
   "source": [
    "bfitter_dog.model.parameter_labels\n"
   ]
  },
  {
   "cell_type": "code",
   "execution_count": null,
   "id": "1ce532b4",
   "metadata": {},
   "outputs": [],
   "source": [
    "bfitter_dog.fit(\n",
    "    idx=[0,], #2,3], \n",
    "    init_pars=init_pars_dog,\n",
    "    num_results=500,         \n",
    ")"
   ]
  },
  {
   "cell_type": "code",
   "execution_count": null,
   "id": "861b5d32",
   "metadata": {},
   "outputs": [],
   "source": []
  },
  {
   "cell_type": "code",
   "execution_count": null,
   "id": "aefaee54",
   "metadata": {},
   "outputs": [],
   "source": [
    "idx = 0\n",
    "burn_in = 0\n",
    "\n",
    "rsq = bfitter_dog.get_rsq_for_idx(\n",
    "    idx=idx, parameters=bfitter_dog.mcmc_sampler[idx],\n",
    ")\n",
    "plt.plot(rsq)\n",
    "plt.figure()\n",
    "rsq_cols = dag_get_col_vals(\n",
    "    rsq, cmap='RdBu_r', vmin=-1, vmax=1,\n",
    "    )\n",
    "\n",
    "sns_plot = sns.pairplot(\n",
    "    bfitter_dog.mcmc_sampler[idx].iloc[burn_in:,:],\n",
    "    plot_kws={'color':rsq_cols[burn_in:,:]},\n",
    "    # corner=True, \n",
    "    diag_kind='kde'\n",
    ")\n",
    "sns_plot.map_lower(sns.kdeplot, levels=4, color=0.2)\n",
    "# sns_plot.\n",
    "edit_pair_plot(\n",
    "    sns_plot.axes, lines_dict=parameters_dog.iloc[idx,:].to_dict(), color='g', linestyle=':'\n",
    ")\n",
    "# edit_pair_plot(\n",
    "#     sns_plot.axes, init_pars.iloc[idx,:].to_dict(), color='c', linestyle=':', lw=4,\n",
    "# )\n",
    "# edit_pair_plot(\n",
    "#     sns_plot.axes, refined_pars.iloc[idx,:].to_dict(), color='r', linestyle=':', lw=4,\n",
    "# )\n",
    "plt.show()"
   ]
  },
  {
   "cell_type": "code",
   "execution_count": null,
   "id": "89d92d53",
   "metadata": {},
   "outputs": [],
   "source": [
    "plt.plot(\n",
    "    bfitter_dog.mcmc_sampler[idx].x\n",
    ")"
   ]
  },
  {
   "cell_type": "code",
   "execution_count": null,
   "id": "6308bc1e",
   "metadata": {},
   "outputs": [],
   "source": [
    "bfitter_dog.mcmc_sampler[idx].shape"
   ]
  },
  {
   "cell_type": "code",
   "execution_count": null,
   "id": "e3fe1448",
   "metadata": {},
   "outputs": [],
   "source": [
    "bfitter_dog.mcmc_sampler[0].x"
   ]
  }
 ],
 "metadata": {
  "kernelspec": {
   "display_name": "tf-metal",
   "language": "python",
   "name": "python3"
  },
  "language_info": {
   "codemirror_mode": {
    "name": "ipython",
    "version": 3
   },
   "file_extension": ".py",
   "mimetype": "text/x-python",
   "name": "python",
   "nbconvert_exporter": "python",
   "pygments_lexer": "ipython3",
   "version": "3.9.21"
  }
 },
 "nbformat": 4,
 "nbformat_minor": 5
}

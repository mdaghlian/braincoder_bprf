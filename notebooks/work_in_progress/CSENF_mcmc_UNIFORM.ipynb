{
 "cells": [
  {
   "cell_type": "markdown",
   "id": "28bc712a",
   "metadata": {},
   "source": [
    "# STILL NONSENSE TESTING - IGNORE "
   ]
  },
  {
   "cell_type": "code",
   "execution_count": 3,
   "id": "f5c23c2a",
   "metadata": {},
   "outputs": [
    {
     "name": "stdout",
     "output_type": "stream",
     "text": [
      "The autoreload extension is already loaded. To reload it, use:\n",
      "  %reload_ext autoreload\n"
     ]
    }
   ],
   "source": [
    "%load_ext autoreload\n",
    "%autoreload 2\n",
    "from scipy import io\n",
    "import matplotlib.pyplot as plt\n",
    "import numpy as np\n",
    "import pandas as pd\n",
    "import seaborn as sns\n",
    "import tensorflow as tf\n",
    "# Set a limit on the memory usage of the GPU\n",
    "# gpus = tf.config.experimental.list_physical_devices('GPU')\n",
    "# if gpus:\n",
    "#     try:\n",
    "#         for gpu in gpus:\n",
    "#             tf.config.experimental.set_memory_growth(gpu, True)\n",
    "#             tf.config.experimental.set_virtual_device_configuration(\n",
    "#                 gpu,\n",
    "#                 [tf.config.experimental.VirtualDeviceConfiguration(memory_limit=4096)])\n",
    "#     except RuntimeError as e:\n",
    "#         print(e)\n",
    "\n",
    "tf.config.list_physical_devices('GPU')\n",
    "from braincoder.utils.visualize import *\n",
    "\n",
    "%matplotlib inline"
   ]
  },
  {
   "cell_type": "markdown",
   "id": "fceae54e",
   "metadata": {},
   "source": [
    "# Simulate data"
   ]
  },
  {
   "cell_type": "code",
   "execution_count": 4,
   "id": "7930fb26",
   "metadata": {},
   "outputs": [],
   "source": [
    "import prfpy_csenf\n",
    "import os \n",
    "from os.path import join as opj\n",
    "seq_path = os.path.join(os.path.dirname(prfpy_csenf.__path__[0]))\n",
    "sfs_seq = np.load(opj(seq_path, 'eg_sfs_seq.npy'))\n",
    "# sfs_seq = np.append(sfs_seq, np.zeros(500))\n",
    "\n",
    "con_seq = np.load(opj(seq_path, 'eg_con_seq.npy'))\n",
    "# con_seq = np.append(con_seq, np.zeros(500))\n",
    "paradigm = np.vstack([sfs_seq, con_seq])\n"
   ]
  },
  {
   "cell_type": "code",
   "execution_count": 5,
   "id": "06077236",
   "metadata": {},
   "outputs": [],
   "source": [
    "# Stimulus object \n",
    "from braincoder.stimuli import ContrastSensitivityStimulus\n",
    "cs_stim = ContrastSensitivityStimulus()"
   ]
  },
  {
   "cell_type": "code",
   "execution_count": 6,
   "id": "e8ca0371",
   "metadata": {},
   "outputs": [],
   "source": [
    "bounds = {\n",
    "    'width_r'  : [0,1.5],          \n",
    "    'SFp'       : [0, 6],\n",
    "    'CSp'       : [0, 200] ,\n",
    "    'width_l'   : [0, 1.5],     # we fix width_l in our model\n",
    "    'crf_exp'   : [0, 5] ,\n",
    "    'amplitude' : [0, 10],       # Amplitude of TC\n",
    "    'baseline'  : [-2,2]\n",
    "}\n",
    "n_vx = 100\n",
    "parameters = pd.DataFrame({\n",
    "    key:np.random.uniform(bounds[key][0], bounds[key][1], n_vx) for key in bounds\n",
    "}).astype('float32')\n",
    "\n",
    "n_vx = parameters.shape[0]\n",
    "idx_cols = sns.color_palette(\"hsv\", n_vx)"
   ]
  },
  {
   "cell_type": "code",
   "execution_count": 7,
   "id": "6fb7ab66",
   "metadata": {},
   "outputs": [],
   "source": [
    "from braincoder.models import ContrastSensitivity, ContrastSensitivityWithHRF\n",
    "from braincoder.hrf import SPMHRFModel, CustomHRFModel, HRFModel"
   ]
  },
  {
   "cell_type": "code",
   "execution_count": 10,
   "id": "4f06042c",
   "metadata": {},
   "outputs": [
    {
     "name": "stderr",
     "output_type": "stream",
     "text": [
      "2025-02-11 16:18:44.195276: E tensorflow/compiler/xla/stream_executor/cuda/cuda_dnn.cc:447] Could not create cudnn handle: CUDNN_STATUS_ARCH_MISMATCH\n",
      "2025-02-11 16:18:44.195469: E tensorflow/compiler/xla/stream_executor/cuda/cuda_dnn.cc:451] Memory usage: 3050962944 bytes free, 11997020160 bytes total.\n",
      "2025-02-11 16:18:44.195491: W tensorflow/core/framework/op_kernel.cc:1839] OP_REQUIRES failed at conv_ops_impl.h:1592 : UNIMPLEMENTED: DNN library is not found.\n"
     ]
    },
    {
     "ename": "UnimplementedError",
     "evalue": "Graph execution error:\n\nDetected at node Conv2D defined at (most recent call last):\n  File \"<frozen runpy>\", line 198, in _run_module_as_main\n\n  File \"<frozen runpy>\", line 88, in _run_code\n\n  File \"/home/daghlian/.conda/envs/braincoder_b/lib/python3.11/site-packages/ipykernel_launcher.py\", line 18, in <module>\n\n  File \"/home/daghlian/.conda/envs/braincoder_b/lib/python3.11/site-packages/traitlets/config/application.py\", line 1075, in launch_instance\n\n  File \"/home/daghlian/.conda/envs/braincoder_b/lib/python3.11/site-packages/ipykernel/kernelapp.py\", line 739, in start\n\n  File \"/home/daghlian/.conda/envs/braincoder_b/lib/python3.11/site-packages/tornado/platform/asyncio.py\", line 205, in start\n\n  File \"/home/daghlian/.conda/envs/braincoder_b/lib/python3.11/asyncio/base_events.py\", line 608, in run_forever\n\n  File \"/home/daghlian/.conda/envs/braincoder_b/lib/python3.11/asyncio/base_events.py\", line 1936, in _run_once\n\n  File \"/home/daghlian/.conda/envs/braincoder_b/lib/python3.11/asyncio/events.py\", line 84, in _run\n\n  File \"/home/daghlian/.conda/envs/braincoder_b/lib/python3.11/site-packages/ipykernel/kernelbase.py\", line 545, in dispatch_queue\n\n  File \"/home/daghlian/.conda/envs/braincoder_b/lib/python3.11/site-packages/ipykernel/kernelbase.py\", line 534, in process_one\n\n  File \"/home/daghlian/.conda/envs/braincoder_b/lib/python3.11/site-packages/ipykernel/kernelbase.py\", line 437, in dispatch_shell\n\n  File \"/home/daghlian/.conda/envs/braincoder_b/lib/python3.11/site-packages/ipykernel/ipkernel.py\", line 362, in execute_request\n\n  File \"/home/daghlian/.conda/envs/braincoder_b/lib/python3.11/site-packages/ipykernel/kernelbase.py\", line 778, in execute_request\n\n  File \"/home/daghlian/.conda/envs/braincoder_b/lib/python3.11/site-packages/ipykernel/ipkernel.py\", line 449, in do_execute\n\n  File \"/home/daghlian/.conda/envs/braincoder_b/lib/python3.11/site-packages/ipykernel/zmqshell.py\", line 549, in run_cell\n\n  File \"/home/daghlian/.conda/envs/braincoder_b/lib/python3.11/site-packages/IPython/core/interactiveshell.py\", line 3075, in run_cell\n\n  File \"/home/daghlian/.conda/envs/braincoder_b/lib/python3.11/site-packages/IPython/core/interactiveshell.py\", line 3130, in _run_cell\n\n  File \"/home/daghlian/.conda/envs/braincoder_b/lib/python3.11/site-packages/IPython/core/async_helpers.py\", line 128, in _pseudo_sync_runner\n\n  File \"/home/daghlian/.conda/envs/braincoder_b/lib/python3.11/site-packages/IPython/core/interactiveshell.py\", line 3334, in run_cell_async\n\n  File \"/home/daghlian/.conda/envs/braincoder_b/lib/python3.11/site-packages/IPython/core/interactiveshell.py\", line 3517, in run_ast_nodes\n\n  File \"/home/daghlian/.conda/envs/braincoder_b/lib/python3.11/site-packages/IPython/core/interactiveshell.py\", line 3577, in run_code\n\n  File \"/tmp/ipykernel_3151100/952231317.py\", line 8, in <module>\n\n  File \"/data1/projects/dumoulinlab/Lab_members/Marcus/programs/braincoder_bprf/braincoder/models.py\", line 73, in predict\n\n  File \"/data1/projects/dumoulinlab/Lab_members/Marcus/programs/braincoder_bprf/braincoder/models.py\", line 655, in _predict\n\n  File \"/data1/projects/dumoulinlab/Lab_members/Marcus/programs/braincoder_bprf/braincoder/hrf.py\", line 25, in convolve\n\n  File \"/data1/projects/dumoulinlab/Lab_members/Marcus/programs/braincoder_bprf/braincoder/hrf.py\", line 26, in convolve\n\n  File \"/data1/projects/dumoulinlab/Lab_members/Marcus/programs/braincoder_bprf/braincoder/hrf.py\", line 39, in _convolve_shared\n\nDNN library is not found.\n\t [[{{node Conv2D}}]] [Op:__inference__predict_468]",
     "output_type": "error",
     "traceback": [
      "\u001b[0;31m---------------------------------------------------------------------------\u001b[0m",
      "\u001b[0;31mUnimplementedError\u001b[0m                        Traceback (most recent call last)",
      "Cell \u001b[0;32mIn[10], line 8\u001b[0m\n\u001b[1;32m      1\u001b[0m model \u001b[38;5;241m=\u001b[39m ContrastSensitivityWithHRF(\n\u001b[1;32m      2\u001b[0m     parameters\u001b[38;5;241m=\u001b[39mparameters,\n\u001b[1;32m      3\u001b[0m     SF_seq\u001b[38;5;241m=\u001b[39msfs_seq,  \n\u001b[0;32m   (...)\u001b[0m\n\u001b[1;32m      6\u001b[0m \n\u001b[1;32m      7\u001b[0m )\n\u001b[0;32m----> 8\u001b[0m pred \u001b[38;5;241m=\u001b[39m \u001b[43mmodel\u001b[49m\u001b[38;5;241;43m.\u001b[39;49m\u001b[43mpredict\u001b[49m\u001b[43m(\u001b[49m\u001b[43m)\u001b[49m\n\u001b[1;32m      9\u001b[0m plt\u001b[38;5;241m.\u001b[39mplot(pred)\n",
      "File \u001b[0;32m/data1/projects/dumoulinlab/Lab_members/Marcus/programs/braincoder_bprf/braincoder/models.py:73\u001b[0m, in \u001b[0;36mEncodingModel.predict\u001b[0;34m(self, paradigm, parameters, weights)\u001b[0m\n\u001b[1;32m     70\u001b[0m parameters \u001b[38;5;241m=\u001b[39m \u001b[38;5;28mself\u001b[39m\u001b[38;5;241m.\u001b[39m_get_parameters(parameters)\n\u001b[1;32m     72\u001b[0m parameters_ \u001b[38;5;241m=\u001b[39m parameters\u001b[38;5;241m.\u001b[39mvalues[np\u001b[38;5;241m.\u001b[39mnewaxis, \u001b[38;5;241m.\u001b[39m\u001b[38;5;241m.\u001b[39m\u001b[38;5;241m.\u001b[39m] \u001b[38;5;28;01mif\u001b[39;00m parameters \u001b[38;5;129;01mis\u001b[39;00m \u001b[38;5;129;01mnot\u001b[39;00m \u001b[38;5;28;01mNone\u001b[39;00m \u001b[38;5;28;01melse\u001b[39;00m \u001b[38;5;28;01mNone\u001b[39;00m\n\u001b[0;32m---> 73\u001b[0m predictions \u001b[38;5;241m=\u001b[39m \u001b[38;5;28;43mself\u001b[39;49m\u001b[38;5;241;43m.\u001b[39;49m\u001b[43m_predict\u001b[49m\u001b[43m(\u001b[49m\u001b[43mparadigm_\u001b[49m\u001b[43m,\u001b[49m\u001b[43m \u001b[49m\u001b[43mparameters_\u001b[49m\u001b[43m,\u001b[49m\u001b[43m \u001b[49m\u001b[43mweights_\u001b[49m\u001b[43m)\u001b[49m[\u001b[38;5;241m0\u001b[39m]\n\u001b[1;32m     75\u001b[0m \u001b[38;5;28;01mif\u001b[39;00m weights \u001b[38;5;129;01mis\u001b[39;00m \u001b[38;5;28;01mNone\u001b[39;00m:\n\u001b[1;32m     76\u001b[0m     \u001b[38;5;28;01mreturn\u001b[39;00m pd\u001b[38;5;241m.\u001b[39mDataFrame(predictions\u001b[38;5;241m.\u001b[39mnumpy(), index\u001b[38;5;241m=\u001b[39mparadigm\u001b[38;5;241m.\u001b[39mindex, columns\u001b[38;5;241m=\u001b[39mparameters\u001b[38;5;241m.\u001b[39mindex)\n",
      "File \u001b[0;32m~/.conda/envs/braincoder_b/lib/python3.11/site-packages/tensorflow/python/util/traceback_utils.py:153\u001b[0m, in \u001b[0;36mfilter_traceback.<locals>.error_handler\u001b[0;34m(*args, **kwargs)\u001b[0m\n\u001b[1;32m    151\u001b[0m \u001b[38;5;28;01mexcept\u001b[39;00m \u001b[38;5;167;01mException\u001b[39;00m \u001b[38;5;28;01mas\u001b[39;00m e:\n\u001b[1;32m    152\u001b[0m   filtered_tb \u001b[38;5;241m=\u001b[39m _process_traceback_frames(e\u001b[38;5;241m.\u001b[39m__traceback__)\n\u001b[0;32m--> 153\u001b[0m   \u001b[38;5;28;01mraise\u001b[39;00m e\u001b[38;5;241m.\u001b[39mwith_traceback(filtered_tb) \u001b[38;5;28;01mfrom\u001b[39;00m\u001b[38;5;250m \u001b[39m\u001b[38;5;28;01mNone\u001b[39;00m\n\u001b[1;32m    154\u001b[0m \u001b[38;5;28;01mfinally\u001b[39;00m:\n\u001b[1;32m    155\u001b[0m   \u001b[38;5;28;01mdel\u001b[39;00m filtered_tb\n",
      "File \u001b[0;32m~/.conda/envs/braincoder_b/lib/python3.11/site-packages/tensorflow/python/eager/execute.py:60\u001b[0m, in \u001b[0;36mquick_execute\u001b[0;34m(op_name, num_outputs, inputs, attrs, ctx, name)\u001b[0m\n\u001b[1;32m     53\u001b[0m   \u001b[38;5;66;03m# Convert any objects of type core_types.Tensor to Tensor.\u001b[39;00m\n\u001b[1;32m     54\u001b[0m   inputs \u001b[38;5;241m=\u001b[39m [\n\u001b[1;32m     55\u001b[0m       tensor_conversion_registry\u001b[38;5;241m.\u001b[39mconvert(t)\n\u001b[1;32m     56\u001b[0m       \u001b[38;5;28;01mif\u001b[39;00m \u001b[38;5;28misinstance\u001b[39m(t, core_types\u001b[38;5;241m.\u001b[39mTensor)\n\u001b[1;32m     57\u001b[0m       \u001b[38;5;28;01melse\u001b[39;00m t\n\u001b[1;32m     58\u001b[0m       \u001b[38;5;28;01mfor\u001b[39;00m t \u001b[38;5;129;01min\u001b[39;00m inputs\n\u001b[1;32m     59\u001b[0m   ]\n\u001b[0;32m---> 60\u001b[0m   tensors \u001b[38;5;241m=\u001b[39m pywrap_tfe\u001b[38;5;241m.\u001b[39mTFE_Py_Execute(ctx\u001b[38;5;241m.\u001b[39m_handle, device_name, op_name,\n\u001b[1;32m     61\u001b[0m                                       inputs, attrs, num_outputs)\n\u001b[1;32m     62\u001b[0m \u001b[38;5;28;01mexcept\u001b[39;00m core\u001b[38;5;241m.\u001b[39m_NotOkStatusException \u001b[38;5;28;01mas\u001b[39;00m e:\n\u001b[1;32m     63\u001b[0m   \u001b[38;5;28;01mif\u001b[39;00m name \u001b[38;5;129;01mis\u001b[39;00m \u001b[38;5;129;01mnot\u001b[39;00m \u001b[38;5;28;01mNone\u001b[39;00m:\n",
      "\u001b[0;31mUnimplementedError\u001b[0m: Graph execution error:\n\nDetected at node Conv2D defined at (most recent call last):\n  File \"<frozen runpy>\", line 198, in _run_module_as_main\n\n  File \"<frozen runpy>\", line 88, in _run_code\n\n  File \"/home/daghlian/.conda/envs/braincoder_b/lib/python3.11/site-packages/ipykernel_launcher.py\", line 18, in <module>\n\n  File \"/home/daghlian/.conda/envs/braincoder_b/lib/python3.11/site-packages/traitlets/config/application.py\", line 1075, in launch_instance\n\n  File \"/home/daghlian/.conda/envs/braincoder_b/lib/python3.11/site-packages/ipykernel/kernelapp.py\", line 739, in start\n\n  File \"/home/daghlian/.conda/envs/braincoder_b/lib/python3.11/site-packages/tornado/platform/asyncio.py\", line 205, in start\n\n  File \"/home/daghlian/.conda/envs/braincoder_b/lib/python3.11/asyncio/base_events.py\", line 608, in run_forever\n\n  File \"/home/daghlian/.conda/envs/braincoder_b/lib/python3.11/asyncio/base_events.py\", line 1936, in _run_once\n\n  File \"/home/daghlian/.conda/envs/braincoder_b/lib/python3.11/asyncio/events.py\", line 84, in _run\n\n  File \"/home/daghlian/.conda/envs/braincoder_b/lib/python3.11/site-packages/ipykernel/kernelbase.py\", line 545, in dispatch_queue\n\n  File \"/home/daghlian/.conda/envs/braincoder_b/lib/python3.11/site-packages/ipykernel/kernelbase.py\", line 534, in process_one\n\n  File \"/home/daghlian/.conda/envs/braincoder_b/lib/python3.11/site-packages/ipykernel/kernelbase.py\", line 437, in dispatch_shell\n\n  File \"/home/daghlian/.conda/envs/braincoder_b/lib/python3.11/site-packages/ipykernel/ipkernel.py\", line 362, in execute_request\n\n  File \"/home/daghlian/.conda/envs/braincoder_b/lib/python3.11/site-packages/ipykernel/kernelbase.py\", line 778, in execute_request\n\n  File \"/home/daghlian/.conda/envs/braincoder_b/lib/python3.11/site-packages/ipykernel/ipkernel.py\", line 449, in do_execute\n\n  File \"/home/daghlian/.conda/envs/braincoder_b/lib/python3.11/site-packages/ipykernel/zmqshell.py\", line 549, in run_cell\n\n  File \"/home/daghlian/.conda/envs/braincoder_b/lib/python3.11/site-packages/IPython/core/interactiveshell.py\", line 3075, in run_cell\n\n  File \"/home/daghlian/.conda/envs/braincoder_b/lib/python3.11/site-packages/IPython/core/interactiveshell.py\", line 3130, in _run_cell\n\n  File \"/home/daghlian/.conda/envs/braincoder_b/lib/python3.11/site-packages/IPython/core/async_helpers.py\", line 128, in _pseudo_sync_runner\n\n  File \"/home/daghlian/.conda/envs/braincoder_b/lib/python3.11/site-packages/IPython/core/interactiveshell.py\", line 3334, in run_cell_async\n\n  File \"/home/daghlian/.conda/envs/braincoder_b/lib/python3.11/site-packages/IPython/core/interactiveshell.py\", line 3517, in run_ast_nodes\n\n  File \"/home/daghlian/.conda/envs/braincoder_b/lib/python3.11/site-packages/IPython/core/interactiveshell.py\", line 3577, in run_code\n\n  File \"/tmp/ipykernel_3151100/952231317.py\", line 8, in <module>\n\n  File \"/data1/projects/dumoulinlab/Lab_members/Marcus/programs/braincoder_bprf/braincoder/models.py\", line 73, in predict\n\n  File \"/data1/projects/dumoulinlab/Lab_members/Marcus/programs/braincoder_bprf/braincoder/models.py\", line 655, in _predict\n\n  File \"/data1/projects/dumoulinlab/Lab_members/Marcus/programs/braincoder_bprf/braincoder/hrf.py\", line 25, in convolve\n\n  File \"/data1/projects/dumoulinlab/Lab_members/Marcus/programs/braincoder_bprf/braincoder/hrf.py\", line 26, in convolve\n\n  File \"/data1/projects/dumoulinlab/Lab_members/Marcus/programs/braincoder_bprf/braincoder/hrf.py\", line 39, in _convolve_shared\n\nDNN library is not found.\n\t [[{{node Conv2D}}]] [Op:__inference__predict_468]"
     ]
    }
   ],
   "source": [
    "model = ContrastSensitivityWithHRF(\n",
    "    parameters=parameters,\n",
    "    SF_seq=sfs_seq,  \n",
    "    CON_seq=con_seq,       \n",
    "    hrf_model=SPMHRFModel(tr=1.5),\n",
    "\n",
    ")\n",
    "pred = model.predict()\n",
    "plt.plot(pred)"
   ]
  },
  {
   "cell_type": "markdown",
   "id": "fcc6643a",
   "metadata": {},
   "source": [
    "# Classic fitter"
   ]
  },
  {
   "cell_type": "code",
   "execution_count": null,
   "id": "b7fc5889",
   "metadata": {},
   "outputs": [],
   "source": [
    "\n",
    "data = model.simulate(noise=.1)\n",
    "data.plot(legend=False)\n",
    "sns.despine()\n",
    "    "
   ]
  },
  {
   "cell_type": "code",
   "execution_count": null,
   "id": "039b8829",
   "metadata": {},
   "outputs": [],
   "source": [
    "from braincoder.bprf_mcmc import *\n",
    "from braincoder.optimize import ParameterFitter\n",
    "cfitter = ParameterFitter(model, data, model.paradigm)\n",
    "grid_pars = cfitter.fit_grid(\n",
    "    width_r     =np.linspace(bounds['width_r'][0], bounds['width_r'][1], 5),\n",
    "    SFp         =np.linspace(bounds['SFp'][0], bounds['SFp'][1], 5),\n",
    "    CSp         =np.linspace(bounds['CSp'][0], bounds['CSp'][1], 10),\n",
    "    width_l     =np.linspace(bounds['width_l'][0], bounds['width_l'][1], 5),\n",
    "    crf_exp     =np.linspace(bounds['crf_exp'][0], bounds['crf_exp'][1], 5),\n",
    "    amplitude   =[1.0],\n",
    "    baseline    =[0],\n",
    "    use_correlation_cost=True\n",
    ")\n",
    "ols_pars = cfitter.refine_baseline_and_amplitude(grid_pars)\n",
    "refined_pars = cfitter.fit(init_pars=ols_pars, ) #fixed_pars={'width_l' : 0.68})"
   ]
  },
  {
   "cell_type": "code",
   "execution_count": null,
   "id": "ffe37ab7",
   "metadata": {},
   "outputs": [],
   "source": [
    "fig, axs = plt.subplots(2, 4, figsize=(20, 10))\n",
    "axs = axs.flatten()\n",
    "param_names = parameters.columns\n",
    "rsq = cfitter.get_rsq(parameters=refined_pars)\n",
    "for i, param in enumerate(param_names):\n",
    "    ax = axs[i]\n",
    "    ax.scatter(\n",
    "        parameters[param], \n",
    "        refined_pars[param], \n",
    "        c=rsq, \n",
    "        alpha=0.6,\n",
    "        cmap='viridis',\n",
    "        vmin=0, vmax=1,\n",
    "        )\n",
    "    corr = np.corrcoef(parameters[param], refined_pars[param])[0, 1]\n",
    "    ax.set_title(f'{param} (corr={corr:.2f})')\n",
    "    ax.set_xlabel('Initial Parameters')\n",
    "    ax.set_ylabel('Refined Parameters')\n",
    "    ax.plot([bounds[param][0], bounds[param][1]], \n",
    "            [bounds[param][0], bounds[param][1]], 'k--')\n",
    "    ax.set_xlim(bounds[param])\n",
    "    ax.set_ylim(bounds[param])\n",
    "    # ax.set_aspect('square')\n",
    "    sns.despine()\n",
    "\n",
    "plt.tight_layout()\n",
    "plt.show()"
   ]
  },
  {
   "cell_type": "code",
   "execution_count": 9,
   "id": "d7328ad7",
   "metadata": {},
   "outputs": [
    {
     "ename": "NameError",
     "evalue": "name 'BPRF' is not defined",
     "output_type": "error",
     "traceback": [
      "\u001b[0;31m---------------------------------------------------------------------------\u001b[0m",
      "\u001b[0;31mNameError\u001b[0m                                 Traceback (most recent call last)",
      "Cell \u001b[0;32mIn[9], line 1\u001b[0m\n\u001b[0;32m----> 1\u001b[0m bfitter \u001b[38;5;241m=\u001b[39m \u001b[43mBPRF\u001b[49m(model, data, noise_method\u001b[38;5;241m=\u001b[39m\u001b[38;5;124m'\u001b[39m\u001b[38;5;124mfit_normal\u001b[39m\u001b[38;5;124m'\u001b[39m)\n\u001b[1;32m      2\u001b[0m \u001b[38;5;66;03m# bfitter.add_priors_from_bounds(\u001b[39;00m\n\u001b[1;32m      3\u001b[0m \u001b[38;5;66;03m#     bounds, \u001b[39;00m\n\u001b[1;32m      4\u001b[0m \u001b[38;5;66;03m# )\u001b[39;00m\n\u001b[1;32m      5\u001b[0m bfitter\u001b[38;5;241m.\u001b[39madd_bijector_from_bounds(\n\u001b[1;32m      6\u001b[0m     bounds\n\u001b[1;32m      7\u001b[0m )\n",
      "\u001b[0;31mNameError\u001b[0m: name 'BPRF' is not defined"
     ]
    }
   ],
   "source": [
    "bfitter = BPRF(model, data, noise_method='fit_normal')\n",
    "# bfitter.add_priors_from_bounds(\n",
    "#     bounds, \n",
    "# )\n",
    "bfitter.add_bijector_from_bounds(\n",
    "    bounds\n",
    ")\n",
    "\n",
    "\n",
    "init_pars = {\n",
    "    'width_r' : np.ones(n_vx) * 1,\n",
    "    'SFp' : np.ones(n_vx) * 2,\n",
    "    'CSp' : np.ones(n_vx) * 100,\n",
    "    'width_l' : np.ones(n_vx) * 0.68,\n",
    "    'crf_exp' : np.ones(n_vx) * 1,\n",
    "    'amplitude' : np.ones(n_vx) * 1, \n",
    "    'baseline' : np.ones(n_vx) * 0, \n",
    "    # 'noise_dof' : np.ones(n_vx) * 1, \n",
    "    'noise_scale' : np.ones(n_vx) * .5, \n",
    "}\n",
    "init_pars = pd.DataFrame(init_pars)\n",
    "\n",
    "bfitter.fit_mcmc(\n",
    "    idx=[0,],\n",
    "    init_pars=init_pars,\n",
    "    # fixed_pars={'width_l':0.68},\n",
    "    num_steps=100,\n",
    "    burnin=10, \n",
    "    # max_tree_depth=1, \n",
    "    # target_accept_prob=0.85, \n",
    ")\n",
    "print(bfitter.mcmc_stats['elapsed_time'])"
   ]
  },
  {
   "cell_type": "code",
   "execution_count": null,
   "id": "f92a563c",
   "metadata": {},
   "outputs": [],
   "source": [
    "bfitter.model_labels"
   ]
  },
  {
   "cell_type": "code",
   "execution_count": null,
   "id": "cb33b596",
   "metadata": {},
   "outputs": [],
   "source": [
    "bfitter.mcmc_stats.keys()\n",
    "# bfitter.mcmc_stats['leapfrogs_taken']\n",
    "\n"
   ]
  },
  {
   "cell_type": "code",
   "execution_count": null,
   "id": "8bbe44d9",
   "metadata": {},
   "outputs": [],
   "source": [
    "idx = 0\n",
    "p = 'noise_scale'\n",
    "plt.plot(\n",
    "    bfitter.mcmc_sampler[idx][p]\n",
    ")\n",
    "# plt.axhline(parameters[p][idx], linestyle=':', color='k')\n",
    "# plt.axhline(refined_pars[p][idx] , linestyle=':', color='r')\n",
    "\n",
    "plt.figure()\n",
    "plt.plot(data.iloc[:,idx], ':k')\n",
    "preds = bfitter.get_predictions(parameters=bfitter.mcmc_sampler[idx])\n",
    "plt.plot(preds, alpha=0.1, color='g')\n",
    "cpreds = model.predict(parameters=refined_pars)\n",
    "plt.plot(cpreds.iloc[:,idx], ':r')"
   ]
  },
  {
   "cell_type": "code",
   "execution_count": null,
   "id": "c4885df8",
   "metadata": {},
   "outputs": [],
   "source": [
    "data"
   ]
  },
  {
   "cell_type": "code",
   "execution_count": null,
   "id": "df05eeb2",
   "metadata": {},
   "outputs": [],
   "source": [
    "bfitter.mcmc_sampler[idx]"
   ]
  },
  {
   "cell_type": "code",
   "execution_count": null,
   "id": "9969695d",
   "metadata": {},
   "outputs": [],
   "source": [
    "bfitter.mcmc_sampler[idx][p]"
   ]
  },
  {
   "cell_type": "code",
   "execution_count": null,
   "id": "81b91b8c",
   "metadata": {},
   "outputs": [],
   "source": [
    "idx = 1\n",
    "rsq = bfitter.get_rsq_for_idx(\n",
    "    idx=idx, \n",
    "    parameters=bfitter.mcmc_sampler[idx]\n",
    "\n",
    ")\n",
    "plt.plot(rsq)"
   ]
  },
  {
   "cell_type": "code",
   "execution_count": null,
   "id": "13cea9ca",
   "metadata": {},
   "outputs": [],
   "source": [
    "# Lets see are we getting closer?\n",
    "fig,axs = plt.subplots(2,4,figsize=(20,10))\n",
    "axs = axs.flatten()\n",
    "idx = 10\n",
    "for ip,p in enumerate(bfitter.model_labels):\n",
    "    ax = axs[ip]\n",
    "    ax.set_title(p)\n",
    "    ax.set_xlabel('Step in MCMC chain')\n",
    "    # for i in range(10):\n",
    "\n",
    "    ax.plot(\n",
    "        bfitter.mcmc_sampler[idx][p],# - parameters[p][idx],\n",
    "        color=idx_cols[idx],        \n",
    "        )\n",
    "    # Lets add the ground truth\n",
    "    ax.axhline(\n",
    "        parameters[p][idx], \n",
    "        color=idx_cols[idx],        \n",
    "        linestyle=':'\n",
    "    )\n",
    "\n",
    "# ax = axs[-1]\n",
    "# ax.set_title('Rsq')\n",
    "# for i in range(10):\n",
    "#     rsq = bfitter.get_rsq_for_idx(\n",
    "#         idx=i, parameters=bfitter.mcmc_sampler[i],\n",
    "#     )\n",
    "#     plt.plot(\n",
    "#         rsq, \n",
    "#         color=idx_cols[i]\n",
    "#         ) \n",
    "# plt.ylim(0,1)\n",
    "# plt.tight_layout()"
   ]
  },
  {
   "cell_type": "code",
   "execution_count": null,
   "id": "a27f5717",
   "metadata": {},
   "outputs": [],
   "source": [
    "step_sizes = [.00001,  0.001, 0.005, 0.01, 0.05]\n",
    "unrolled_steps = [1, 2, 3]\n",
    "tree_depths = [5, 10, 15]\n",
    "\n",
    "for step_size in step_sizes:\n",
    "    for unroll in unrolled_steps:\n",
    "        for depth in tree_depths:\n",
    "            print(f\"\\nTrying step_size={step_size}, unrolled_steps={unroll}, tree_depth={depth}\")\n",
    "            try:\n",
    "                bfitter.fit_all(\n",
    "                    init_pars=init_pars,\n",
    "                    num_steps=10,\n",
    "                    burnin=10, \n",
    "                    unrolled_leapfrog_steps=unroll,\n",
    "                    step_size=step_size,\n",
    "                    max_tree_depth=depth\n",
    "                )\n",
    "            except Exception as e:\n",
    "                print(f\"Failed with error: {e}\")\n",
    "            plt.figure()\n",
    "            rsq = []\n",
    "            for idx in range(bfitter.n_voxels):\n",
    "                rsq.append(bfitter.get_rsq_for_idx(idx=idx, parameters=bfitter.mcmc_sampler[idx]).T)\n",
    "            plt.plot(np.array(rsq).T)\n",
    "            plt.title(\n",
    "                f\"\\nTrying step_size={step_size}, unrolled_steps={unroll}, tree_depth={depth}\"\n",
    "            )\n",
    "        bloop\n",
    "\n",
    "\n",
    "\n"
   ]
  },
  {
   "cell_type": "code",
   "execution_count": null,
   "id": "c5f8a846",
   "metadata": {},
   "outputs": [],
   "source": [
    "idx = 10\n"
   ]
  },
  {
   "cell_type": "code",
   "execution_count": null,
   "id": "e4a903cb",
   "metadata": {},
   "outputs": [],
   "source": [
    "bfitter.mcmc_sampler[idx]"
   ]
  },
  {
   "cell_type": "code",
   "execution_count": null,
   "id": "06c70b5b",
   "metadata": {},
   "outputs": [],
   "source": [
    "idx = 1\n",
    "burn_in = 100\n",
    "plt.plot(cfitter.data.iloc[:,idx], ':k')\n",
    "cpred = model.predict(parameters=refined_pars)\n",
    "plt.plot(cpred.iloc[:,idx], 'b')\n",
    "plt.text(\n",
    "    x=1, y=0.9,  # Using axes coordinates (0-1 range)\n",
    "    s=f\"TRUTH {idx}:\\n{parameters.iloc[idx,:].apply(lambda x: f'{x:.3f}').to_string()}\",\n",
    "    transform=plt.gca().transAxes,  # Use axes coordinates\n",
    "    fontdict={'family': 'monospace', 'size': 8}\n",
    ")\n",
    "plt.text(\n",
    "    x=1.3, y=0.9,  # Using axes coordinates (0-1 range)\n",
    "    s=f\"FIT {idx}:\\n{refined_pars.iloc[idx,:].apply(lambda x: f'{x:.3f}').to_string()}\",\n",
    "    transform=plt.gca().transAxes,  # Use axes coordinates\n",
    "    fontdict={'family': 'monospace', 'size': 8}\n",
    ")\n",
    "# this_pred = bfitter.model.predict(\n",
    "#     parameters=bfitter.mcmc_sampler[idx]\n",
    "# )\n",
    "# plt.plot(\n",
    "#     this_pred.iloc[:,burn_in:], '-g', alpha=.1,\n",
    "# )"
   ]
  },
  {
   "cell_type": "code",
   "execution_count": null,
   "id": "3922b8c7",
   "metadata": {},
   "outputs": [],
   "source": []
  },
  {
   "cell_type": "code",
   "execution_count": null,
   "id": "df230dcc",
   "metadata": {},
   "outputs": [],
   "source": [
    "idx = 500\n",
    "pred = bfitter.get_predictions(\n",
    "    parameters=bfitter.mcmc_sampler[idx],\n",
    "    # c=rsq_cols[500:,:]\n",
    ")\n",
    "# colors = [tuple(color) for color in rsq_cols[id_start:, :-1]]\n",
    "plt.plot(\n",
    "    pred.iloc[:,burn_in:],\n",
    "    # c=colors,\n",
    ")\n",
    "plt.plot(data.iloc[:,idx])\n"
   ]
  },
  {
   "cell_type": "code",
   "execution_count": null,
   "id": "8958648a",
   "metadata": {},
   "outputs": [],
   "source": [
    "idx = 0\n",
    "burn_in = 100\n",
    "sns_plot = sns.pairplot(\n",
    "    fitter.mcmc_sampler[idx].iloc[burn_in:,:],\n",
    "    plot_kws={'color':rsq_cols[burn_in:,:]},\n",
    "    # corner=True, \n",
    "    diag_kind='kde'\n",
    ")\n",
    "sns_plot.map_lower(sns.kdeplot, levels=4, color=0.2)\n",
    "# sns_plot.\n",
    "\n",
    "edit_pair_plot(\n",
    "    sns_plot.axes, \n",
    "    lines_dict=parameters.iloc[idx,:].to_dict(), \n",
    "    lim_dict=bounds, \n",
    "    color='g', linestyle=':', lw=4, label='Truth'\n",
    ")\n",
    "# edit_pair_plot(\n",
    "#     sns_plot.axes, init_pars.iloc[idx,:].to_dict(), color='c', linestyle=':', lw=4,\n",
    "# )\n",
    "# edit_pair_plot(\n",
    "#     sns_plot.axes, refined_pars.iloc[idx,:].to_dict(), color='r', linestyle=':', lw=4,\n",
    "# )\n",
    "plt.legend()\n",
    "plt.show()"
   ]
  },
  {
   "cell_type": "code",
   "execution_count": null,
   "id": "ef785ed0",
   "metadata": {},
   "outputs": [],
   "source": [
    "a = fitter.mcmc_sampler[1]\n",
    "pred = model.predict(parameters=a.iloc[:1,:])\n",
    "\n",
    "plt.plot(data.iloc[:,0])\n",
    "plt.plot(pred)"
   ]
  },
  {
   "cell_type": "code",
   "execution_count": null,
   "id": "64877edd",
   "metadata": {},
   "outputs": [],
   "source": [
    "for p in a.keys():\n",
    "    plt.figure()\n",
    "    plt.plot(a[p])\n",
    "    plt.title(p)\n",
    "\n",
    "for p in a.keys():\n",
    "    plt.figure()\n",
    "    plt.hist(a[p])\n",
    "    plt.title(p)    "
   ]
  },
  {
   "cell_type": "code",
   "execution_count": 24,
   "id": "0bc7fc92",
   "metadata": {},
   "outputs": [],
   "source": [
    "fitter.mcmc_sampler[0]"
   ]
  },
  {
   "cell_type": "code",
   "execution_count": null,
   "id": "e95ed65e",
   "metadata": {},
   "outputs": [],
   "source": [
    "import corner as corner\n",
    "_ = corner.corner(\n",
    "    fitter.mcmc_sampler[1].iloc[500:,:],# truths=parameters.iloc[0,:].T\n",
    "    # truths=parameters.iloc[1,:]\n",
    ")\n",
    "print(parameters.iloc[1,:])\n",
    "# corner.overplot_points(\n",
    "#     plt.gcf(), parameters.iloc[0,:],\n",
    "# )"
   ]
  },
  {
   "cell_type": "code",
   "execution_count": null,
   "id": "6c155ee5",
   "metadata": {},
   "outputs": [],
   "source": [
    "pred = fitter.model.predict(\n",
    "    parameters=fitter.mcmc_sampler[1].iloc[7483:7484,:]\n",
    ")\n",
    "pred.plot()\n",
    "data.iloc[:,0].plot()"
   ]
  },
  {
   "cell_type": "code",
   "execution_count": null,
   "id": "54d4582a",
   "metadata": {},
   "outputs": [],
   "source": [
    "fitter.mcmc_stats[1]['log_prob'].numpy().argmax()"
   ]
  },
  {
   "cell_type": "code",
   "execution_count": null,
   "id": "31eba47c",
   "metadata": {},
   "outputs": [],
   "source": [
    "parameters.keys()\n",
    "a.keys()"
   ]
  },
  {
   "cell_type": "code",
   "execution_count": null,
   "id": "a8b96ba4",
   "metadata": {},
   "outputs": [],
   "source": [
    "parameters"
   ]
  },
  {
   "cell_type": "code",
   "execution_count": null,
   "id": "6630bf4d",
   "metadata": {},
   "outputs": [],
   "source": [
    "b = model.predict(parameters=a.iloc[:100,:])\n",
    "plt.plot(b)\n",
    "plt.plot(data.iloc[:,0], '--k')"
   ]
  },
  {
   "cell_type": "code",
   "execution_count": null,
   "id": "5796188b",
   "metadata": {},
   "outputs": [],
   "source": [
    "data.iloc[:,0]"
   ]
  },
  {
   "cell_type": "code",
   "execution_count": null,
   "id": "808735b6",
   "metadata": {},
   "outputs": [],
   "source": [
    "Code"
   ]
  },
  {
   "cell_type": "code",
   "execution_count": null,
   "id": "990d4bc7",
   "metadata": {},
   "outputs": [],
   "source": [
    "pars  = ols_pars.iloc[:,0].to_numpy()\n",
    "pars = pars[np.newaxis,...]\n",
    "model.predict(parameters = pars) #ols_pars.iloc[:,:0])"
   ]
  },
  {
   "cell_type": "code",
   "execution_count": 93,
   "id": "0fc6abc9",
   "metadata": {},
   "outputs": [],
   "source": [
    "eg1 = a[0].numpy()\n",
    "eg2 = a[1].numpy()"
   ]
  },
  {
   "cell_type": "code",
   "execution_count": null,
   "id": "45773c4e",
   "metadata": {},
   "outputs": [],
   "source": [
    "plt.plot(eg1[:,0])\n",
    "plt.plot(eg2[:,0])"
   ]
  },
  {
   "cell_type": "code",
   "execution_count": null,
   "id": "004e4411",
   "metadata": {},
   "outputs": [],
   "source": [
    "init_pars = model._get_parameters(ols_pars)\n",
    "model._transform_parameters_backward(init_pars.values.astype(np.float32))\n"
   ]
  }
 ],
 "metadata": {
  "kernelspec": {
   "display_name": "braincoder_b",
   "language": "python",
   "name": "python3"
  },
  "language_info": {
   "codemirror_mode": {
    "name": "ipython",
    "version": 3
   },
   "file_extension": ".py",
   "mimetype": "text/x-python",
   "name": "python",
   "nbconvert_exporter": "python",
   "pygments_lexer": "ipython3",
   "version": "3.11.11"
  }
 },
 "nbformat": 4,
 "nbformat_minor": 5
}

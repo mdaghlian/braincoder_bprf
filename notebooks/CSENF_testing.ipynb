{
 "cells": [
  {
   "cell_type": "code",
   "execution_count": 1,
   "id": "f5c23c2a",
   "metadata": {},
   "outputs": [],
   "source": [
    "from scipy import io\n",
    "import matplotlib.pyplot as plt\n",
    "import numpy as np\n",
    "import pandas as pd\n",
    "import seaborn as sns\n",
    "%matplotlib inline"
   ]
  },
  {
   "cell_type": "markdown",
   "id": "fceae54e",
   "metadata": {},
   "source": [
    "# Simulate data"
   ]
  },
  {
   "cell_type": "code",
   "execution_count": null,
   "id": "43412b9a",
   "metadata": {},
   "outputs": [],
   "source": [
    "dm = io.loadmat('GazeCenterFS_vd.mat')['stim']\n",
    "\n",
    "# braincoder convention is time by x by y\n",
    "paradigm = np.rollaxis(dm, 2, 0)\n",
    "paradigm.shape"
   ]
  },
  {
   "cell_type": "code",
   "execution_count": 2,
   "id": "7930fb26",
   "metadata": {},
   "outputs": [],
   "source": [
    "import prfpy_csenf\n",
    "import os \n",
    "from os.path import join as opj\n",
    "seq_path = os.path.join(os.path.dirname(prfpy_csenf.__path__[0]))\n",
    "sfs_seq = np.load(opj(seq_path, 'eg_sfs_seq.npy'))\n",
    "con_seq = np.load(opj(seq_path, 'eg_con_seq.npy'))\n",
    "paradigm = np.vstack([sfs_seq, con_seq])\n"
   ]
  },
  {
   "cell_type": "code",
   "execution_count": null,
   "id": "06077236",
   "metadata": {},
   "outputs": [],
   "source": [
    "!pip install tensorflow\n",
    "# Stimulus object \n",
    "from braincoder.stimuli import ContrastSensitivityStimulus\n",
    "cs_stim = ContrastSensitivityStimulus()\n",
    "\n"
   ]
  },
  {
   "cell_type": "code",
   "execution_count": 3,
   "id": "e8ca0371",
   "metadata": {},
   "outputs": [],
   "source": [
    "parameters = pd.DataFrame({\n",
    "    #                                \n",
    "    'width_r'           : np.array([   1.28,   1.50,   1.00,   1.00,]), # [CSF parameters]    \n",
    "    'SFp'               : np.array([   2.50,   1.00,   4.00,   2.00,]), # \n",
    "    'CSp'               : np.array([ 166.00, 100.00,  80.00,  40.00,]), # \n",
    "    'width_l'           : np.array([   0.68,   0.68,   0.68,   0.68,]), # \n",
    "    'crf_exp'           : np.array([   1.50,   1.50,   2.50,   3.00,]), # [CRF parameter]\n",
    "    'amplitude'         : np.array([   1.00,   1.00,   1.00,   1.00,]), # [fMRI parameters]\n",
    "    'baseline'          : np.array([   0.00,   0.00,   0.00,   0.00,]), # \n",
    "    # 'hrf_1'             : np.array([   1.00,   1.00,   1.00,   1.00,]), # \n",
    "    # 'hrf_2'             : np.array([   0.00,   0.00,   0.00,   0.00,]), # \n",
    "    })"
   ]
  },
  {
   "cell_type": "code",
   "execution_count": null,
   "id": "93a4fdee",
   "metadata": {},
   "outputs": [],
   "source": [
    "from braincoder.models import ContrastSensitivity\n",
    "from braincoder.hrf import SPMHRFModel"
   ]
  },
  {
   "cell_type": "code",
   "execution_count": null,
   "id": "84b1f648",
   "metadata": {},
   "outputs": [],
   "source": [
    "model = ContrastSensitivity(\n",
    "    paradigm=paradigm,\n",
    "    parameters=parameters,\n",
    "\n",
    ")"
   ]
  },
  {
   "cell_type": "code",
   "execution_count": 4,
   "id": "57d36629",
   "metadata": {},
   "outputs": [],
   "source": [
    "parameters = pd.DataFrame({'x':x.ravel(),\n",
    "               'y':y.ravel(),\n",
    "               'sd':.2,\n",
    "               'amplitude':0.001,\n",
    "               'baseline':0.0}).astype(np.float32)\n",
    "\n",
    "y_grid, x_grid = np.meshgrid(np.linspace(-aspect_ratio, aspect_ratio, paradigm.shape[2]), \n",
    "                              np.linspace(-1., 1., paradigm.shape[1]))\n",
    "\n",
    "grid_coordinates = np.stack((x_grid.ravel().astype(np.float32), y_grid.ravel().astype(np.float32)), 1)"
   ]
  },
  {
   "cell_type": "code",
   "execution_count": 5,
   "id": "39f40d29",
   "metadata": {},
   "outputs": [],
   "source": [
    "from braincoder.models import GaussianPRF2DWithHRF\n",
    "from braincoder.hrf import SPMHRFModel"
   ]
  },
  {
   "cell_type": "code",
   "execution_count": 6,
   "id": "ad142248",
   "metadata": {},
   "outputs": [],
   "source": [
    "model = GaussianPRF2DWithHRF(grid_coordinates, \n",
    "                      paradigm=paradigm,\n",
    "                     parameters=parameters,\n",
    "                      hrf_model=SPMHRFModel(tr=1.7))"
   ]
  },
  {
   "cell_type": "code",
   "execution_count": null,
   "id": "bd8cdf3b",
   "metadata": {},
   "outputs": [],
   "source": [
    "for i in range(9):\n",
    "    plt.subplot(3, 3, i+1)\n",
    "    plt.imshow(model.get_rf()[i].reshape((240, 135)).T)\n",
    "    plt.axis(\"off\")"
   ]
  },
  {
   "cell_type": "markdown",
   "id": "71bb7750",
   "metadata": {},
   "source": [
    "## Predictions (no noise)"
   ]
  },
  {
   "cell_type": "code",
   "execution_count": null,
   "id": "000f8f9a",
   "metadata": {},
   "outputs": [],
   "source": [
    "pred = model.predict()\n",
    "pred.plot(legend=False)"
   ]
  },
  {
   "cell_type": "markdown",
   "id": "2789e1b6",
   "metadata": {},
   "source": [
    "## Noisy predictions"
   ]
  },
  {
   "cell_type": "code",
   "execution_count": null,
   "id": "2fa5e5f9",
   "metadata": {},
   "outputs": [],
   "source": [
    "data = model.simulate(noise=35)\n",
    "data.plot(legend=False)\n",
    "sns.despine()"
   ]
  },
  {
   "cell_type": "markdown",
   "id": "f8671197",
   "metadata": {},
   "source": [
    "# Estimate parameters"
   ]
  },
  {
   "cell_type": "code",
   "execution_count": 10,
   "id": "985286bb",
   "metadata": {},
   "outputs": [],
   "source": [
    "from braincoder.optimize import ParameterFitter"
   ]
  },
  {
   "cell_type": "code",
   "execution_count": 11,
   "id": "ffba949b",
   "metadata": {},
   "outputs": [],
   "source": [
    "fitter = ParameterFitter(model, data, paradigm)"
   ]
  },
  {
   "cell_type": "code",
   "execution_count": null,
   "id": "19769423",
   "metadata": {},
   "outputs": [],
   "source": [
    "grid_pars = fitter.fit_grid(x=np.linspace(-1, 1, 20), \n",
    "                            y=np.linspace(-aspect_ratio, aspect_ratio, 20),\n",
    "                            sd=np.linspace(0.01, 1., 10),\n",
    "                            baseline=[0.0],\n",
    "                            amplitude=[1.0],\n",
    "                            use_correlation_cost=True)"
   ]
  },
  {
   "cell_type": "code",
   "execution_count": null,
   "id": "56a8c052",
   "metadata": {},
   "outputs": [],
   "source": [
    "grid_pars"
   ]
  },
  {
   "cell_type": "code",
   "execution_count": null,
   "id": "3add8d50",
   "metadata": {},
   "outputs": [],
   "source": [
    "ols_pars = fitter.refine_baseline_and_amplitude(grid_pars)"
   ]
  },
  {
   "cell_type": "code",
   "execution_count": null,
   "id": "0b0b0f4c",
   "metadata": {},
   "outputs": [],
   "source": [
    "ols_pars"
   ]
  },
  {
   "cell_type": "code",
   "execution_count": null,
   "id": "e09b4c6a",
   "metadata": {},
   "outputs": [],
   "source": [
    "refined_pars = fitter.fit(init_pars=ols_pars, learning_rate=0.0001)"
   ]
  },
  {
   "cell_type": "code",
   "execution_count": null,
   "id": "472aa7be",
   "metadata": {},
   "outputs": [],
   "source": [
    "refined_pars"
   ]
  },
  {
   "cell_type": "code",
   "execution_count": null,
   "id": "83421892",
   "metadata": {},
   "outputs": [],
   "source": [
    "r2 = fitter.get_rsq(refined_pars)\n",
    "r2"
   ]
  },
  {
   "cell_type": "markdown",
   "id": "c5702f13",
   "metadata": {},
   "source": [
    "# Mexican hat model"
   ]
  },
  {
   "cell_type": "code",
   "execution_count": 19,
   "id": "e778d5b5",
   "metadata": {},
   "outputs": [],
   "source": [
    "from braincoder.models import DifferenceOfGaussiansPRF2DWithHRF"
   ]
  },
  {
   "cell_type": "code",
   "execution_count": 20,
   "id": "f0ca6fc6",
   "metadata": {},
   "outputs": [],
   "source": [
    "parameters_dog = pd.DataFrame({'x':x.ravel(),\n",
    "               'y':y.ravel(),\n",
    "               'sd':.2,\n",
    "               'amplitude':0.001,\n",
    "               'baseline':0.0,\n",
    "               'srf_amplitude':.6, \n",
    "               'srf_factor':2.}).astype(np.float32)"
   ]
  },
  {
   "cell_type": "code",
   "execution_count": 21,
   "id": "09ee3e11",
   "metadata": {},
   "outputs": [],
   "source": [
    "model_dog = DifferenceOfGaussiansPRF2DWithHRF(grid_coordinates, paradigm, parameters=parameters_dog,\n",
    "                                             hrf_model=SPMHRFModel(tr=1.8))"
   ]
  },
  {
   "cell_type": "code",
   "execution_count": null,
   "id": "3dac39d1",
   "metadata": {},
   "outputs": [],
   "source": [
    "pred_dog = model_dog.predict()"
   ]
  },
  {
   "cell_type": "code",
   "execution_count": null,
   "id": "6f1a4923",
   "metadata": {},
   "outputs": [],
   "source": [
    "pred[0].plot()\n",
    "pred_dog[0].plot()"
   ]
  },
  {
   "cell_type": "code",
   "execution_count": null,
   "id": "c7199510",
   "metadata": {},
   "outputs": [],
   "source": [
    "data_dog = model.simulate(noise=35)\n",
    "data_dog.plot(legend=False)\n",
    "sns.despine()"
   ]
  },
  {
   "cell_type": "code",
   "execution_count": 25,
   "id": "3999a711",
   "metadata": {},
   "outputs": [],
   "source": [
    "fitter = ParameterFitter(model_dog, data_dog, paradigm)"
   ]
  },
  {
   "cell_type": "code",
   "execution_count": 26,
   "id": "da543426",
   "metadata": {},
   "outputs": [],
   "source": [
    "est_pars_dog = refined_pars.copy()\n",
    "est_pars_dog['srf_amplitude'] = 0.1\n",
    "est_pars_dog['srf_factor'] = 2."
   ]
  },
  {
   "cell_type": "code",
   "execution_count": null,
   "id": "aba492bd",
   "metadata": {},
   "outputs": [],
   "source": [
    "est_pars_dog = fitter.fit(init_pars=est_pars_dog, learning_rate=0.001)"
   ]
  },
  {
   "cell_type": "code",
   "execution_count": null,
   "id": "85b11ec2",
   "metadata": {},
   "outputs": [],
   "source": [
    "est_pred = model.predict(parameters=est_pars_dog)"
   ]
  },
  {
   "cell_type": "code",
   "execution_count": null,
   "id": "5aad04e8",
   "metadata": {},
   "outputs": [],
   "source": [
    "est_pred[1].plot()\n",
    "pred_dog[1].plot()\n",
    "data_dog[1].plot()"
   ]
  },
  {
   "cell_type": "code",
   "execution_count": null,
   "id": "01db1462",
   "metadata": {},
   "outputs": [],
   "source": [
    "est_pars_dog"
   ]
  },
  {
   "cell_type": "code",
   "execution_count": null,
   "id": "9ec47b12",
   "metadata": {},
   "outputs": [],
   "source": [
    "parameters_dog"
   ]
  },
  {
   "cell_type": "code",
   "execution_count": null,
   "id": "a3c6c3e5",
   "metadata": {},
   "outputs": [],
   "source": [
    "r2 = fitter.get_rsq()"
   ]
  },
  {
   "cell_type": "code",
   "execution_count": null,
   "id": "d3492561",
   "metadata": {},
   "outputs": [],
   "source": [
    "r2"
   ]
  }
 ],
 "metadata": {
  "kernelspec": {
   "display_name": "pymc3_fix",
   "language": "python",
   "name": "python3"
  },
  "language_info": {
   "codemirror_mode": {
    "name": "ipython",
    "version": 3
   },
   "file_extension": ".py",
   "mimetype": "text/x-python",
   "name": "python",
   "nbconvert_exporter": "python",
   "pygments_lexer": "ipython3",
   "version": "3.13.1"
  }
 },
 "nbformat": 4,
 "nbformat_minor": 5
}

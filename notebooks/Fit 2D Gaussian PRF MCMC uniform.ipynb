{
 "cells": [
  {
   "cell_type": "code",
   "execution_count": null,
   "id": "f5c23c2a",
   "metadata": {},
   "outputs": [
    {
     "name": "stdout",
     "output_type": "stream",
     "text": [
      "The autoreload extension is already loaded. To reload it, use:\n",
      "  %reload_ext autoreload\n"
     ]
    }
   ],
   "source": [
    "%load_ext autoreload\n",
    "%autoreload 2\n",
    "from scipy import io\n",
    "import matplotlib.pyplot as plt\n",
    "import numpy as np\n",
    "import pandas as pd\n",
    "import seaborn as sns\n",
    "from braincoder.utils.visualize import *\n",
    "%matplotlib inline\n",
    "\n",
    "import tensorflow as tf\n",
    "tf.config.set_visible_devices([], 'GPU')\n",
    "tf.config.list_physical_devices('GPU')\n",
    "\n",
    "    "
   ]
  },
  {
   "cell_type": "code",
   "execution_count": 2,
   "id": "57d36629",
   "metadata": {},
   "outputs": [],
   "source": [
    "dm = io.loadmat('GazeCenterFS_vd.mat')['stim']\n",
    "\n",
    "# braincoder convention is time by x by y\n",
    "paradigm = np.rollaxis(dm, 2, 0)\n",
    "aspect_ratio = paradigm.shape[2] / paradigm.shape[1]\n",
    "\n",
    "x, y = np.meshgrid(np.linspace(-.75, .75, 3), np.linspace(-aspect_ratio *.75, aspect_ratio *.75, 3))\n",
    "y_grid, x_grid = np.meshgrid(np.linspace(-aspect_ratio, aspect_ratio, paradigm.shape[2]), \n",
    "                              np.linspace(-1., 1., paradigm.shape[1]))\n",
    "\n",
    "grid_coordinates = np.stack((x_grid.ravel().astype(np.float32), y_grid.ravel().astype(np.float32)), 1)\n",
    "\n",
    "y_grid, x_grid = np.meshgrid(np.linspace(-aspect_ratio, aspect_ratio, paradigm.shape[2]), \n",
    "                              np.linspace(-1., 1., paradigm.shape[1]))\n",
    "\n",
    "grid_coordinates = np.stack((x_grid.ravel().astype(np.float32), y_grid.ravel().astype(np.float32)), 1)\n",
    "n_vx = 10\n",
    "bounds = {\n",
    "    'x' : [-1, 1],\n",
    "    'y' : [-.5, .5],\n",
    "    'sd' : [0.01, 2],\n",
    "    'baseline' : [-1,1],\n",
    "    'amplitude' : [0, 5], \n",
    "}\n",
    "parameters = pd.DataFrame({\n",
    "    key:np.random.uniform(bounds[key][0], bounds[key][1], n_vx) for key in bounds\n",
    "}).astype('float32')\n",
    "\n",
    "idx_cols = sns.color_palette(\"hsv\", n_vx)"
   ]
  },
  {
   "cell_type": "code",
   "execution_count": null,
   "id": "c364ea5e",
   "metadata": {},
   "outputs": [],
   "source": [
    "aspect_ratio"
   ]
  },
  {
   "cell_type": "code",
   "execution_count": null,
   "id": "ad142248",
   "metadata": {},
   "outputs": [],
   "source": [
    "from braincoder.models import GaussianPRF2DWithHRF\n",
    "from braincoder.hrf import SPMHRFModel\n",
    "model = GaussianPRF2DWithHRF(grid_coordinates, \n",
    "                      paradigm=paradigm,\n",
    "                     parameters=parameters,\n",
    "                      hrf_model=SPMHRFModel(tr=1.7))\n",
    "for i in np.arange(9):\n",
    "    plt.subplot(3, 3, i+1)\n",
    "    plt.imshow(model.get_rf()[i].reshape((240, 135)).T)\n",
    "    plt.axis(\"off\")"
   ]
  },
  {
   "cell_type": "markdown",
   "id": "71bb7750",
   "metadata": {},
   "source": [
    "## Predictions (no noise)"
   ]
  },
  {
   "cell_type": "code",
   "execution_count": null,
   "id": "000f8f9a",
   "metadata": {},
   "outputs": [],
   "source": [
    "pred = model.predict()\n",
    "for i in range(n_vx):\n",
    "    plt.plot(\n",
    "        pred.iloc[:,i],\n",
    "        color=idx_cols[i]\n",
    "    )"
   ]
  },
  {
   "cell_type": "markdown",
   "id": "2789e1b6",
   "metadata": {},
   "source": [
    "## Noisy predictions"
   ]
  },
  {
   "cell_type": "code",
   "execution_count": null,
   "id": "2fa5e5f9",
   "metadata": {},
   "outputs": [],
   "source": [
    "data = model.simulate(noise=2)\n",
    "for i in range(n_vx):\n",
    "    plt.plot(\n",
    "        data.iloc[:,i],\n",
    "        color=idx_cols[i]\n",
    "    )"
   ]
  },
  {
   "cell_type": "markdown",
   "id": "f8671197",
   "metadata": {},
   "source": [
    "# Estimate parameters"
   ]
  },
  {
   "cell_type": "code",
   "execution_count": null,
   "id": "985286bb",
   "metadata": {},
   "outputs": [],
   "source": [
    "from braincoder.optimize import ParameterFitter\n",
    "from braincoder.bprf_mcmc import BPRF"
   ]
  },
  {
   "cell_type": "code",
   "execution_count": null,
   "id": "ffba949b",
   "metadata": {},
   "outputs": [],
   "source": [
    "model = GaussianPRF2DWithHRF(grid_coordinates, \n",
    "                      paradigm=paradigm,\n",
    "                     parameters=parameters,\n",
    "                      hrf_model=SPMHRFModel(tr=1.7))\n",
    "cfitter = ParameterFitter(model, data, paradigm)\n",
    "\n",
    "\n",
    "grid_pars = cfitter.fit_grid(x=np.linspace(-1, 1, 20), \n",
    "                            y=np.linspace(-aspect_ratio, aspect_ratio, 20),\n",
    "                            sd=np.linspace(0.01, 1., 10),\n",
    "                            baseline=[0.0],\n",
    "                            amplitude=[1.0],\n",
    "                            use_correlation_cost=True)\n",
    "ols_pars = cfitter.refine_baseline_and_amplitude(grid_pars)\n",
    "refined_pars = cfitter.fit(init_pars=ols_pars)"
   ]
  },
  {
   "cell_type": "code",
   "execution_count": null,
   "id": "0a90ecc0",
   "metadata": {},
   "outputs": [],
   "source": [
    "fig, axs = plt.subplots(2, 3, figsize=(15, 10))\n",
    "axs = axs.flatten()\n",
    "param_names = parameters.columns\n",
    "\n",
    "for i, param in enumerate(param_names):\n",
    "    ax = axs[i]\n",
    "    ax.scatter(parameters[param], refined_pars[param], alpha=0.6)\n",
    "    # sns.kdeplot(x=parameters[param], y=refined_pars[param], ax=ax, cmap=\"Blues\", bw_adjust=0.5)\n",
    "    ax.set_title(param)\n",
    "    ax.set_xlabel('Initial Parameters')\n",
    "    ax.set_ylabel('Refined Parameters')\n",
    "    ax.plot([bounds[param][0], bounds[param][1]], \n",
    "            [bounds[param][0], bounds[param][1]], 'k--')\n",
    "    ax.set_xlim(bounds[param])\n",
    "    ax.set_ylim(bounds[param])\n",
    "sns.despine()\n",
    "axs[-1].set_axis_off()\n",
    "plt.tight_layout()\n",
    "plt.show()"
   ]
  },
  {
   "cell_type": "code",
   "execution_count": null,
   "id": "57dba087",
   "metadata": {},
   "outputs": [],
   "source": [
    "idx = -1\n",
    "from braincoder.utils.visualize import quick_plot\n",
    "quick_plot(\n",
    "    model=model, \n",
    "    parameters=refined_pars.iloc[idx,:],\n",
    "    data=data.iloc[:,idx],\n",
    "    color=idx_cols[idx]\n",
    "\n",
    ")\n",
    "print(refined_pars.iloc[idx,:])\n",
    "print(parameters.iloc[idx,:])"
   ]
  },
  {
   "cell_type": "markdown",
   "id": "8bfc4c0f",
   "metadata": {},
   "source": [
    "# MCMC Gaussian"
   ]
  },
  {
   "cell_type": "code",
   "execution_count": null,
   "id": "0ea4f9b9",
   "metadata": {},
   "outputs": [],
   "source": [
    "n_vx = parameters.shape[0]\n",
    "init_pars = pd.DataFrame({    \n",
    "    'x' : np.zeros(n_vx),\n",
    "    'y' : np.zeros(n_vx),\n",
    "    'sd' : np.ones(n_vx),\n",
    "    'amplitude' : np.ones(n_vx),\n",
    "    'baseline' : np.zeros(n_vx),\n",
    "})\n",
    "\n",
    "\n",
    "num_steps = 1\n",
    "tf.random.set_seed(1)\n",
    "# No priors, no transformations on the parameters...\n",
    "bfitter = BPRF(model=model, data=data, )\n",
    "\n",
    "# Fit all vx at once... may not be the best way but doing it for now...\n",
    "bfitter.fit_mcmc(\n",
    "    init_pars=init_pars,\n",
    "    num_steps=num_steps,\n",
    ")\n"
   ]
  },
  {
   "cell_type": "code",
   "execution_count": null,
   "id": "40d870eb",
   "metadata": {},
   "outputs": [],
   "source": [
    "# Lets see are we getting closer?\n",
    "fig,axs = plt.subplots(3,2,figsize=(15,10))\n",
    "axs = axs.flatten()\n",
    "for ip,p in enumerate(bfitter.model_labels):\n",
    "    ax = axs[ip]\n",
    "    ax.set_title(p)\n",
    "    ax.set_xlabel('Step in MCMC chain')\n",
    "    for i in range(1):\n",
    "        ax.plot(\n",
    "            bfitter.mcmc_sampler[i][p],\n",
    "            color=idx_cols[i],        \n",
    "            )\n",
    "        # Lets add the ground truth\n",
    "        ax.axhline(\n",
    "            parameters[p][i], \n",
    "            color=idx_cols[i],        \n",
    "            linestyle=':'\n",
    "        )\n",
    "\n",
    "ax = axs[-1]\n",
    "ax.set_title('Rsq')\n",
    "for i in range(9):\n",
    "    rsq = bfitter.get_rsq_for_idx(\n",
    "        idx=i, parameters=bfitter.mcmc_sampler[i],\n",
    "    )\n",
    "    plt.plot(\n",
    "        rsq, \n",
    "        color=idx_cols[i]\n",
    "        ) \n",
    "plt.ylim(0,1)\n",
    "plt.tight_layout()"
   ]
  },
  {
   "cell_type": "code",
   "execution_count": null,
   "id": "91c8a85a",
   "metadata": {},
   "outputs": [],
   "source": [
    "# Which fits to compare \n",
    "idx_list = [1, 3]\n",
    "burn_in = 0 # exclude first 'n' \n",
    "\n",
    "# Lets look at the data and fits\n",
    "fig, axs = plt.subplots(2,1, figsize=(7,2))\n",
    "for iplot,idx in enumerate(idx_list):\n",
    "    axs[iplot].plot(data.iloc[:,idx], ':k')\n",
    "    # Plot the 'best' fit from classical fitter\n",
    "    axs[iplot].plot(pred.iloc[:,idx], '-k', alpha=0.4)\n",
    "    this_preds = bfitter.model.predict(\n",
    "        parameters=bfitter.mcmc_sampler[idx].iloc[burn_in:,:]\n",
    "        )\n",
    "    axs[iplot].plot(\n",
    "        this_preds, color=idx_cols[idx], alpha=0.1\n",
    "    )\n",
    "\n",
    "combined_data = pd.concat(\n",
    "    [bfitter.mcmc_sampler[i].iloc[burn_in:, :].assign(dataset=i) for i in idx_list],\n",
    "    ignore_index=True\n",
    ")\n",
    "\n",
    "sns_plot = sns.pairplot(\n",
    "    combined_data,\n",
    "    # diag_kind='kde',\n",
    "    corner=True,\n",
    "    hue='dataset',  # Use the 'dataset' column for coloring\n",
    "    palette=[idx_cols[i] for i in idx_list],  # Optional: choose a color palette\n",
    ")\n",
    "for i in idx_list:\n",
    "    edit_pair_plot(\n",
    "        sns_plot.axes, \n",
    "        lines_dict=parameters.iloc[i,:].to_dict(), \n",
    "        color=idx_cols[i], \n",
    "        linestyle=':', lw=2, alpha=.5,\n",
    "        lim_dict=bounds,\n",
    "    )    "
   ]
  },
  {
   "cell_type": "markdown",
   "id": "c5702f13",
   "metadata": {},
   "source": [
    "# Mexican hat model -> not done yet..."
   ]
  },
  {
   "cell_type": "code",
   "execution_count": 50,
   "id": "e778d5b5",
   "metadata": {},
   "outputs": [],
   "source": [
    "from braincoder.models import DifferenceOfGaussiansPRF2DWithHRF"
   ]
  },
  {
   "cell_type": "code",
   "execution_count": null,
   "id": "f0ca6fc6",
   "metadata": {},
   "outputs": [],
   "source": [
    "parameters_dog = pd.DataFrame({'x':x.ravel(),\n",
    "               'y':y.ravel(),\n",
    "               'sd':.2,\n",
    "               'amplitude':0.3,\n",
    "               'baseline':0.0,\n",
    "               'srf_amplitude':.4, \n",
    "               'srf_size':2}).astype(np.float32)\n",
    "model_dog = DifferenceOfGaussiansPRF2DWithHRF(grid_coordinates, paradigm, parameters=parameters_dog,\n",
    "                                             hrf_model=SPMHRFModel(tr=1.8))\n",
    "pred_dog = model_dog.predict()\n",
    "pred_dog.plot()"
   ]
  },
  {
   "cell_type": "code",
   "execution_count": null,
   "id": "c7199510",
   "metadata": {},
   "outputs": [],
   "source": [
    "data_dog = model_dog.simulate(noise=.1)\n",
    "data_dog.plot(legend=False)\n",
    "sns.despine()"
   ]
  },
  {
   "cell_type": "code",
   "execution_count": 53,
   "id": "3999a711",
   "metadata": {},
   "outputs": [],
   "source": [
    "fitter_dog = ParameterFitter(model_dog, data_dog, paradigm)"
   ]
  },
  {
   "cell_type": "code",
   "execution_count": 54,
   "id": "da543426",
   "metadata": {},
   "outputs": [],
   "source": [
    "init_pars_dog = refined_pars.copy()\n",
    "init_pars_dog['srf_amplitude'] = 0.1\n",
    "init_pars_dog['srf_size'] = 2."
   ]
  },
  {
   "cell_type": "code",
   "execution_count": null,
   "id": "aba492bd",
   "metadata": {},
   "outputs": [],
   "source": [
    "est_pars_dog = fitter_dog.fit(\n",
    "    init_pars=init_pars_dog, learning_rate=0.001,\n",
    "    max_n_iterations=5000,\n",
    "    )"
   ]
  },
  {
   "cell_type": "code",
   "execution_count": null,
   "id": "85b11ec2",
   "metadata": {},
   "outputs": [],
   "source": [
    "idx = 0\n",
    "est_pred = model_dog.predict(parameters=est_pars_dog)\n",
    "est_pred[idx].plot()\n",
    "data_dog[idx].plot()\n",
    "print(est_pars_dog.iloc[idx,:])\n",
    "print(parameters_dog.iloc[idx,:])\n"
   ]
  },
  {
   "cell_type": "markdown",
   "id": "c2e8b765",
   "metadata": {},
   "source": [
    "# MCMC - DOG"
   ]
  },
  {
   "cell_type": "code",
   "execution_count": 59,
   "id": "e29b7103",
   "metadata": {},
   "outputs": [],
   "source": [
    "bounds_dog = {\n",
    "    'x' : [-1, 1],\n",
    "    'y' : [-1, 1],\n",
    "    'sd' : [0, 2],\n",
    "    'baseline' : [-1,1],\n",
    "    'amplitude' : [0, 5],  \n",
    "    'srf_amplitude': [0, 10],\n",
    "    'srf_size' : [1, 10],\n",
    "\n",
    "}\n",
    "\n",
    "n_vx = parameters_dog.shape[0]\n",
    "init_pars_dog = pd.DataFrame({    \n",
    "    'x' : np.zeros(n_vx),\n",
    "    'y' : np.zeros(n_vx),\n",
    "    'sd' : np.zeros(n_vx)+1,\n",
    "    'baseline' : np.zeros(n_vx),\n",
    "    'amplitude' : np.zeros(n_vx) + 1,\n",
    "    'srf_amplitude' : np.zeros(n_vx) + .5,\n",
    "    'srf_size' : np.zeros(n_vx) + 2,\n",
    "\n",
    "})\n",
    "bfitter_dog = BPRF(model=model_dog, data=data_dog, )\n",
    "bfitter_dog.add_priors_from_bounds(bounds_dog, )\n",
    "bfitter_dog.prep_for_fitting()"
   ]
  },
  {
   "cell_type": "code",
   "execution_count": null,
   "id": "1ce532b4",
   "metadata": {},
   "outputs": [],
   "source": [
    "bfitter_dog.fit_all(\n",
    "    init_pars=init_pars_dog,\n",
    "    num_results=5,         \n",
    ")"
   ]
  },
  {
   "cell_type": "code",
   "execution_count": null,
   "id": "861b5d32",
   "metadata": {},
   "outputs": [],
   "source": []
  },
  {
   "cell_type": "code",
   "execution_count": null,
   "id": "aefaee54",
   "metadata": {},
   "outputs": [],
   "source": [
    "idx = 0\n",
    "burn_in = 0\n",
    "\n",
    "rsq = bfitter_dog.get_rsq_for_idx(\n",
    "    idx=idx, parameters=bfitter_dog.mcmc_sampler[idx],\n",
    ")\n",
    "plt.plot(rsq)\n",
    "plt.figure()\n",
    "rsq_cols = dag_get_col_vals(\n",
    "    rsq, cmap='RdBu_r', vmin=-1, vmax=1,\n",
    "    )\n",
    "\n",
    "sns_plot = sns.pairplot(\n",
    "    bfitter_dog.mcmc_sampler[idx].iloc[burn_in:,:],\n",
    "    plot_kws={'color':rsq_cols[burn_in:,:]},\n",
    "    # corner=True, \n",
    "    diag_kind='kde'\n",
    ")\n",
    "sns_plot.map_lower(sns.kdeplot, levels=4, color=0.2)\n",
    "# sns_plot.\n",
    "edit_pair_plot(\n",
    "    sns_plot.axes, lines_dict=parameters_dog.iloc[idx,:].to_dict(), color='g', linestyle=':'\n",
    ")\n",
    "# edit_pair_plot(\n",
    "#     sns_plot.axes, init_pars.iloc[idx,:].to_dict(), color='c', linestyle=':', lw=4,\n",
    "# )\n",
    "# edit_pair_plot(\n",
    "#     sns_plot.axes, refined_pars.iloc[idx,:].to_dict(), color='r', linestyle=':', lw=4,\n",
    "# )\n",
    "plt.show()"
   ]
  },
  {
   "cell_type": "code",
   "execution_count": null,
   "id": "89d92d53",
   "metadata": {},
   "outputs": [],
   "source": [
    "plt.plot(\n",
    "    bfitter_dog.mcmc_sampler[idx].x\n",
    ")"
   ]
  },
  {
   "cell_type": "code",
   "execution_count": null,
   "id": "6308bc1e",
   "metadata": {},
   "outputs": [],
   "source": [
    "bfitter_dog.mcmc_sampler[idx].shape"
   ]
  },
  {
   "cell_type": "code",
   "execution_count": null,
   "id": "e3fe1448",
   "metadata": {},
   "outputs": [],
   "source": [
    "bfitter_dog.mcmc_sampler[0].x"
   ]
  }
 ],
 "metadata": {
  "kernelspec": {
   "display_name": "braincoder_b",
   "language": "python",
   "name": "python3"
  },
  "language_info": {
   "codemirror_mode": {
    "name": "ipython",
    "version": 3
   },
   "file_extension": ".py",
   "mimetype": "text/x-python",
   "name": "python",
   "nbconvert_exporter": "python",
   "pygments_lexer": "ipython3",
   "version": "3.11.11"
  }
 },
 "nbformat": 4,
 "nbformat_minor": 5
}

{
 "cells": [
  {
   "cell_type": "markdown",
   "id": "40f8ba23",
   "metadata": {},
   "source": [
    "# Running with "
   ]
  },
  {
   "cell_type": "code",
   "execution_count": null,
   "id": "2335ad6a",
   "metadata": {},
   "outputs": [],
   "source": [
    "%load_ext autoreload\n",
    "%autoreload 2\n",
    "import os\n",
    "import sys\n",
    "import yaml\n",
    "import pickle\n",
    "import argparse\n",
    "import numpy as np\n",
    "import pandas as pd\n",
    "import seaborn as sns\n",
    "import matplotlib.pyplot as plt\n",
    "\n",
    "import tensorflow as tf\n",
    "tf.config.set_visible_devices([], 'GPU')\n",
    "print('GPU devices available:', tf.config.list_physical_devices('GPU'))\n",
    "\n",
    "from scipy import io\n",
    "import braincoder\n",
    "from braincoder.utils.visualize import *\n",
    "import prfpy_csenf\n",
    "\n",
    "from os.path import join as opj\n",
    "from braincoder.models import ContrastSensitivity, ContrastSensitivityWithHRF\n",
    "from braincoder.hrf import SPMHRFModel, CustomHRFModel, HRFModel\n",
    "from braincoder.stimuli import ContrastSensitivityStimulus\n",
    "from braincoder.bprf_mcmc import BPRF\n",
    "from braincoder.optimize import ParameterFitter\n",
    "%matplotlib inline"
   ]
  },
  {
   "cell_type": "code",
   "execution_count": 4,
   "id": "c7416773",
   "metadata": {},
   "outputs": [],
   "source": [
    "with open(\"config.yml\", 'r') as f:\n",
    "    config = yaml.safe_load(f)"
   ]
  },
  {
   "cell_type": "code",
   "execution_count": 5,
   "id": "419ffc09",
   "metadata": {},
   "outputs": [],
   "source": [
    "config"
   ]
  },
  {
   "cell_type": "code",
   "execution_count": null,
   "id": "975d968c",
   "metadata": {},
   "outputs": [],
   "source": [
    "sim_file = './output'\n",
    "with open(opj(sim_file,'ground_truth.pkl'), 'rb') as file:\n",
    "    gt = pickle.load(file)\n",
    "    bounds = gt['bounds']\n",
    "    data = gt['data']\n",
    "    parameters = gt['parameters']\n",
    "with open(opj(sim_file,'cfitter.pkl'), 'rb') as file:\n",
    "    cf = pickle.load(file)\n",
    "    cfitter = cf['cfitter']\n",
    "    cfit_time = cf['cfit_time']\n",
    "refined_pars = cfitter.estimated_parameters\n",
    "model = cfitter.model    \n",
    "with open(opj(sim_file,'bfitter.pkl'), 'rb') as file:\n",
    "    bf = pickle.load(file)\n",
    "    bfitter = bf['bfitter']\n",
    "    bfit_time = bf['bfit_time']\n",
    "print(cfit_time)\n",
    "print(bfit_time)"
   ]
  },
  {
   "cell_type": "code",
   "execution_count": null,
   "id": "032f8f02",
   "metadata": {},
   "outputs": [],
   "source": [
    "data.plot(legend=False)\n",
    "sns.despine()\n",
    "data.shape"
   ]
  },
  {
   "cell_type": "code",
   "execution_count": null,
   "id": "34d28ab7",
   "metadata": {},
   "outputs": [],
   "source": [
    "plt.plot(bfitter.mcmc_stats['log_prob'])"
   ]
  },
  {
   "cell_type": "code",
   "execution_count": null,
   "id": "4387ac51",
   "metadata": {},
   "outputs": [],
   "source": [
    "fig, axs = plt.subplots(2, 4, figsize=(20, 10))\n",
    "axs = axs.flatten()\n",
    "param_names = parameters.columns\n",
    "rsq = cfitter.get_rsq(parameters=refined_pars)\n",
    "for i, param in enumerate(param_names):\n",
    "    ax = axs[i]\n",
    "    ax.scatter(\n",
    "        parameters[param], \n",
    "        refined_pars[param], \n",
    "        c=rsq, \n",
    "        alpha=0.6,\n",
    "        # cmap='viridis',\n",
    "        vmin=0, vmax=1,\n",
    "        )\n",
    "    corr = np.corrcoef(parameters[param], refined_pars[param])[0, 1]\n",
    "    ax.set_title(f'{param} (corr={corr:.2f})')\n",
    "    ax.set_xlabel('Initial Parameters')\n",
    "    ax.set_ylabel('Refined Parameters')\n",
    "    ax.plot([bounds[param][0], bounds[param][1]], \n",
    "            [bounds[param][0], bounds[param][1]], 'k--')\n",
    "    ax.set_xlim(bounds[param])\n",
    "    ax.set_ylim(bounds[param])\n",
    "    # ax.set_aspect('square')\n",
    "    sns.despine()\n",
    "\n",
    "plt.tight_layout()\n",
    "plt.show()"
   ]
  },
  {
   "cell_type": "code",
   "execution_count": null,
   "id": "2d351ff5",
   "metadata": {},
   "outputs": [],
   "source": [
    "print(bfitter.mcmc_stats.keys())\n",
    "plt.plot(bfitter.mcmc_stats['step_size'].numpy())\n",
    "\n"
   ]
  },
  {
   "cell_type": "code",
   "execution_count": null,
   "id": "f627c651",
   "metadata": {},
   "outputs": [],
   "source": [
    "idx = 20\n",
    "fig, axs = plt.subplots(3,3, figsize=(12,4))\n",
    "fig.suptitle(f'idx = {idx}')\n",
    "axs = axs.flatten()\n",
    "for i,p in enumerate(bfitter.model_labels):    \n",
    "    axs[i].plot(\n",
    "        bfitter.mcmc_sampler[idx][p]\n",
    "    )\n",
    "    axs[i].axhline(parameters[p][idx], linestyle=':', color='k', label='ground truth')\n",
    "    axs[i].axhline(refined_pars[p][idx] , linestyle=':', color='r', label='classical fit')\n",
    "    axs[i].set_ylabel(p)\n",
    "    axs[i].set_ylim(bounds[p])\n",
    "    sns.despine()\n",
    "\n",
    "axs[i].legend()\n",
    "fig.set_tight_layout('tight')\n",
    "plt.figure()\n",
    "plt.plot(data.iloc[:,idx], ':k')\n",
    "preds = bfitter.get_predictions(parameters=bfitter.mcmc_sampler[idx])\n",
    "plt.plot(preds, alpha=0.1, color='g')\n",
    "cpreds = model.predict(parameters=refined_pars)\n",
    "plt.plot(cpreds.iloc[:,idx], ':r')"
   ]
  },
  {
   "cell_type": "code",
   "execution_count": null,
   "id": "c56fdfe1",
   "metadata": {},
   "outputs": [],
   "source": [
    "idx = 0\n",
    "burn_in = 100\n",
    "this_mcmc_pars = bfitter.mcmc_sampler[idx].iloc[burn_in:,:]\n",
    "rsq = bfitter.get_rsq_for_idx(idx=idx, parameters=this_mcmc_pars)\n",
    "bloop\n",
    "sns_plot = sns.pairplot(\n",
    "    bfitter.sampler[idx].iloc[burn_in:,:],\n",
    "    # plot_kws={'color':rsq_cols[burn_in:,:]},\n",
    "    # corner=True, \n",
    "    diag_kind='kde'\n",
    ")\n",
    "sns_plot.map_lower(sns.kdeplot, levels=4, color=0.2)\n",
    "# sns_plot.\n",
    "\n",
    "edit_pair_plot(\n",
    "    sns_plot.axes, \n",
    "    lines_dict=parameters.iloc[idx,:].to_dict(), \n",
    "    lim_dict=bounds, \n",
    "    color='g', linestyle=':', lw=4, label='Truth'\n",
    ")\n",
    "# edit_pair_plot(\n",
    "#     sns_plot.axes, init_pars.iloc[idx,:].to_dict(), color='c', linestyle=':', lw=4,\n",
    "# )\n",
    "# edit_pair_plot(\n",
    "#     sns_plot.axes, refined_pars.iloc[idx,:].to_dict(), color='r', linestyle=':', lw=4,\n",
    "# )\n",
    "plt.legend()\n",
    "plt.show()"
   ]
  },
  {
   "cell_type": "code",
   "execution_count": null,
   "id": "24c8b26a",
   "metadata": {},
   "outputs": [],
   "source": [
    "bfitter.mcmc_sampler[idx]"
   ]
  },
  {
   "cell_type": "code",
   "execution_count": null,
   "id": "914dd9a7",
   "metadata": {},
   "outputs": [],
   "source": [
    "this_mcmc_pars"
   ]
  }
 ],
 "metadata": {
  "kernelspec": {
   "display_name": "braincoder_b",
   "language": "python",
   "name": "python3"
  },
  "language_info": {
   "codemirror_mode": {
    "name": "ipython",
    "version": 3
   },
   "file_extension": ".py",
   "mimetype": "text/x-python",
   "name": "python",
   "nbconvert_exporter": "python",
   "pygments_lexer": "ipython3",
   "version": "3.11.11"
  }
 },
 "nbformat": 4,
 "nbformat_minor": 5
}

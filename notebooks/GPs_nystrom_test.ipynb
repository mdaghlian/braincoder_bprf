{
 "cells": [
  {
   "cell_type": "markdown",
   "id": "cc3246db",
   "metadata": {},
   "source": [
    "# Check have I implemented the nystrom approximation speed up correctly..."
   ]
  },
  {
   "cell_type": "code",
   "execution_count": null,
   "id": "0b4e49f1",
   "metadata": {},
   "outputs": [],
   "source": [
    "import numpy as np\n",
    "import tensorflow as tf\n",
    "from tensorflow_probability import distributions as tfd\n",
    "from tensorflow_probability import bijectors as tfb\n",
    "import math\n",
    "import copy\n",
    "\n",
    "from braincoder.bprf_GPs import *\n"
   ]
  },
  {
   "cell_type": "code",
   "execution_count": null,
   "id": "bea14418",
   "metadata": {},
   "outputs": [],
   "source": [
    "n_loop = 1\n",
    "nvx = 10000\n",
    "m = 500\n",
    "\n",
    "x = np.linspace(0,100,nvx)*10\n",
    "dXs = np.abs(x[None,:] - x[...,None])\n",
    "\n",
    "\n",
    "mfunc_mean = 0.0\n",
    "gpks_l = 100.0\n",
    "gpks_v = 20.0\n",
    "gpk_nugget = 0.1\n",
    "\n",
    "\n",
    "gpN = GP(n_vx=nvx, eps=1e-3)\n",
    "gpN.add_xid_stationary_kernel(\n",
    "    xid='s', dXs=dXs, psd_control=None, \n",
    ")\n",
    "gpN.add_nystrom_approximation(n_inducers=m)\n",
    "K_true = gpN._return_sigma_full(\n",
    "    gpks_l=gpks_l, gpks_v=gpks_v, gpk_nugget=gpk_nugget\n",
    ")\n",
    "random_params = np.random.multivariate_normal(np.zeros(nvx), K_true.numpy(), size=n_loop)\n",
    "# --- Timing the Nystrom approximation loop ---\n",
    "from time import time\n",
    "print(\"Timing Nystrom approximation...\")\n",
    "start_nystrom = time()\n",
    "No = []\n",
    "for i in range(n_loop):\n",
    "    eg_rand = random_params[i]\n",
    "    No.append(gpN._return_log_prob_nystrom(\n",
    "        parameter=tf.cast(eg_rand, tf.float32),\n",
    "        mfunc_mean=mfunc_mean,\n",
    "        gpks_l=gpks_l,\n",
    "        gpks_v=gpks_v,\n",
    "        gpk_nugget=gpk_nugget,\n",
    "    ).numpy())\n",
    "end_nystrom = time()\n",
    "nystrom_time = end_nystrom - start_nystrom\n",
    "print(f\"Nystrom approximation loop took: {nystrom_time:.4f} seconds\")\n",
    "\n",
    "# --- Timing the unfixed loop ---\n",
    "print(\"\\nTiming unfixed calculation...\")\n",
    "start_unfixed = time()\n",
    "Fo = []\n",
    "for i in range(n_loop):\n",
    "    # Use the same random parameter as the Nystrom loop\n",
    "    eg_rand = random_params[i]\n",
    "    Fo.append(gpN._return_log_prob_unfixed(\n",
    "        parameter=tf.cast(eg_rand, tf.float32),\n",
    "        mfunc_mean=mfunc_mean,\n",
    "        gpks_l=gpks_l,\n",
    "        gpks_v=gpks_v,\n",
    "        gpk_nugget=gpk_nugget,\n",
    "    ).numpy())\n",
    "end_unfixed = time()\n",
    "unfixed_time = end_unfixed - start_unfixed\n",
    "print(f\"Unfixed calculation loop took: {unfixed_time:.4f} seconds\")\n",
    "\n",
    "# --- Comparing the results ---\n",
    "print(\"\\n--- Comparison ---\")\n",
    "if nystrom_time < unfixed_time:\n",
    "    print(f\"The Nystrom approximation was faster by a factor of: {unfixed_time / nystrom_time:.2f}\")\n",
    "elif unfixed_time < nystrom_time:\n",
    "    print(f\"The unfixed calculation was faster by a factor of: {nystrom_time / unfixed_time:.2f}\")\n",
    "else:\n",
    "    print(\"The two calculations took approximately the same amount of time.\")\n",
    "No, Fo = np.array(No), np.array(Fo)\n",
    "# You can now calculate the correlation if you wish\n",
    "correlation = np.corrcoef(No, Fo)[0, 1]\n",
    "mse=(np.diff(No-Fo)**2).mean()\n",
    "print(f\"\\nCorrelation between Nystrom and Unfixed results: corr={correlation:.4f}, mse={mse}\")"
   ]
  },
  {
   "cell_type": "code",
   "execution_count": null,
   "id": "eae99b88",
   "metadata": {},
   "outputs": [],
   "source": [
    "gpN.eps"
   ]
  },
  {
   "cell_type": "code",
   "execution_count": null,
   "id": "d5d4c8e8",
   "metadata": {},
   "outputs": [],
   "source": [
    "# Generate standard normal random samples\n",
    "\n",
    "\n",
    "# # Transform samples using the Cholesky decomposition to get correlated samples\n",
    "# random_params = np.dot(random_samples, L.T)\n",
    "# import matplotlib.pyplot as plt\n",
    "# plt.plot(random_samples[:,0])"
   ]
  },
  {
   "cell_type": "code",
   "execution_count": null,
   "id": "6cbc33cc",
   "metadata": {},
   "outputs": [],
   "source": [
    "random_samples.shape"
   ]
  },
  {
   "cell_type": "code",
   "execution_count": null,
   "id": "8287733b",
   "metadata": {},
   "outputs": [],
   "source": [
    "from dpu_mini.plot_functions import dag_scatter\n",
    "dag_scatter(\n",
    "    No, Fo, do_id_line=True, \n",
    ")\n",
    "No"
   ]
  }
 ],
 "metadata": {
  "kernelspec": {
   "display_name": "PYTHON bcoder002b",
   "language": "python",
   "name": "bcoder002"
  },
  "language_info": {
   "codemirror_mode": {
    "name": "ipython",
    "version": 3
   },
   "file_extension": ".py",
   "mimetype": "text/x-python",
   "name": "python",
   "nbconvert_exporter": "python",
   "pygments_lexer": "ipython3",
   "version": "3.11.5"
  }
 },
 "nbformat": 4,
 "nbformat_minor": 5
}

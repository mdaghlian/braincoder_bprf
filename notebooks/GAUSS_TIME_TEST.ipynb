{
 "cells": [
  {
   "cell_type": "code",
   "execution_count": 1,
   "id": "f5c23c2a",
   "metadata": {},
   "outputs": [
    {
     "ename": "NotFoundError",
     "evalue": "dlopen(/Users/marcusdaghlian/miniforge3/envs/tf-metal/lib/python3.9/site-packages/tensorflow-plugins/libmetal_plugin.dylib, 0x0006): Symbol not found: __ZN3tsl8internal10LogMessageC1EPKcii\n  Referenced from: <D2EF42E3-3A7F-39DD-9982-FB6BCDC2853C> /Users/marcusdaghlian/miniforge3/envs/tf-metal/lib/python3.9/site-packages/tensorflow-plugins/libmetal_plugin.dylib\n  Expected in:     <2A053E7E-6DBA-37C2-A28E-1D52A5836870> /Users/marcusdaghlian/miniforge3/envs/tf-metal/lib/python3.9/site-packages/tensorflow/python/_pywrap_tensorflow_internal.so",
     "output_type": "error",
     "traceback": [
      "\u001b[0;31m---------------------------------------------------------------------------\u001b[0m",
      "\u001b[0;31mNotFoundError\u001b[0m                             Traceback (most recent call last)",
      "Cell \u001b[0;32mIn[1], line 9\u001b[0m\n\u001b[1;32m      7\u001b[0m \u001b[38;5;28;01mimport\u001b[39;00m\u001b[38;5;250m \u001b[39m\u001b[38;5;21;01mseaborn\u001b[39;00m\u001b[38;5;250m \u001b[39m\u001b[38;5;28;01mas\u001b[39;00m\u001b[38;5;250m \u001b[39m\u001b[38;5;21;01msns\u001b[39;00m\n\u001b[1;32m      8\u001b[0m get_ipython()\u001b[38;5;241m.\u001b[39mrun_line_magic(\u001b[38;5;124m'\u001b[39m\u001b[38;5;124mmatplotlib\u001b[39m\u001b[38;5;124m'\u001b[39m, \u001b[38;5;124m'\u001b[39m\u001b[38;5;124minline\u001b[39m\u001b[38;5;124m'\u001b[39m)\n\u001b[0;32m----> 9\u001b[0m \u001b[38;5;28;01mimport\u001b[39;00m\u001b[38;5;250m \u001b[39m\u001b[38;5;21;01mtensorflow\u001b[39;00m\u001b[38;5;250m \u001b[39m\u001b[38;5;28;01mas\u001b[39;00m\u001b[38;5;250m \u001b[39m\u001b[38;5;21;01mtf\u001b[39;00m\n\u001b[1;32m     10\u001b[0m \u001b[38;5;28;01mimport\u001b[39;00m\u001b[38;5;250m \u001b[39m\u001b[38;5;21;01mdatetime\u001b[39;00m\n\u001b[1;32m     11\u001b[0m \u001b[38;5;28mprint\u001b[39m(tf\u001b[38;5;241m.\u001b[39mconfig\u001b[38;5;241m.\u001b[39mlist_physical_devices(\u001b[38;5;124m'\u001b[39m\u001b[38;5;124mGPU\u001b[39m\u001b[38;5;124m'\u001b[39m))\n",
      "File \u001b[0;32m~/miniforge3/envs/tf-metal/lib/python3.9/site-packages/tensorflow/__init__.py:437\u001b[0m\n\u001b[1;32m    435\u001b[0m _plugin_dir \u001b[38;5;241m=\u001b[39m _os\u001b[38;5;241m.\u001b[39mpath\u001b[38;5;241m.\u001b[39mjoin(_s, \u001b[38;5;124m\"\u001b[39m\u001b[38;5;124mtensorflow-plugins\u001b[39m\u001b[38;5;124m\"\u001b[39m)\n\u001b[1;32m    436\u001b[0m \u001b[38;5;28;01mif\u001b[39;00m _os\u001b[38;5;241m.\u001b[39mpath\u001b[38;5;241m.\u001b[39mexists(_plugin_dir):\n\u001b[0;32m--> 437\u001b[0m   \u001b[43m_ll\u001b[49m\u001b[38;5;241;43m.\u001b[39;49m\u001b[43mload_library\u001b[49m\u001b[43m(\u001b[49m\u001b[43m_plugin_dir\u001b[49m\u001b[43m)\u001b[49m\n\u001b[1;32m    438\u001b[0m   \u001b[38;5;66;03m# Load Pluggable Device Library\u001b[39;00m\n\u001b[1;32m    439\u001b[0m   _ll\u001b[38;5;241m.\u001b[39mload_pluggable_device_library(_plugin_dir)\n",
      "File \u001b[0;32m~/miniforge3/envs/tf-metal/lib/python3.9/site-packages/tensorflow/python/framework/load_library.py:151\u001b[0m, in \u001b[0;36mload_library\u001b[0;34m(library_location)\u001b[0m\n\u001b[1;32m    148\u001b[0m     kernel_libraries \u001b[38;5;241m=\u001b[39m [library_location]\n\u001b[1;32m    150\u001b[0m   \u001b[38;5;28;01mfor\u001b[39;00m lib \u001b[38;5;129;01min\u001b[39;00m kernel_libraries:\n\u001b[0;32m--> 151\u001b[0m     \u001b[43mpy_tf\u001b[49m\u001b[38;5;241;43m.\u001b[39;49m\u001b[43mTF_LoadLibrary\u001b[49m\u001b[43m(\u001b[49m\u001b[43mlib\u001b[49m\u001b[43m)\u001b[49m\n\u001b[1;32m    153\u001b[0m \u001b[38;5;28;01melse\u001b[39;00m:\n\u001b[1;32m    154\u001b[0m   \u001b[38;5;28;01mraise\u001b[39;00m \u001b[38;5;167;01mOSError\u001b[39;00m(\n\u001b[1;32m    155\u001b[0m       errno\u001b[38;5;241m.\u001b[39mENOENT,\n\u001b[1;32m    156\u001b[0m       \u001b[38;5;124m'\u001b[39m\u001b[38;5;124mThe file or folder to load kernel libraries from does not exist.\u001b[39m\u001b[38;5;124m'\u001b[39m,\n\u001b[1;32m    157\u001b[0m       library_location)\n",
      "\u001b[0;31mNotFoundError\u001b[0m: dlopen(/Users/marcusdaghlian/miniforge3/envs/tf-metal/lib/python3.9/site-packages/tensorflow-plugins/libmetal_plugin.dylib, 0x0006): Symbol not found: __ZN3tsl8internal10LogMessageC1EPKcii\n  Referenced from: <D2EF42E3-3A7F-39DD-9982-FB6BCDC2853C> /Users/marcusdaghlian/miniforge3/envs/tf-metal/lib/python3.9/site-packages/tensorflow-plugins/libmetal_plugin.dylib\n  Expected in:     <2A053E7E-6DBA-37C2-A28E-1D52A5836870> /Users/marcusdaghlian/miniforge3/envs/tf-metal/lib/python3.9/site-packages/tensorflow/python/_pywrap_tensorflow_internal.so"
     ]
    }
   ],
   "source": [
    "%load_ext autoreload\n",
    "%autoreload 2\n",
    "from scipy import io\n",
    "import matplotlib.pyplot as plt\n",
    "import numpy as np\n",
    "import pandas as pd\n",
    "import seaborn as sns\n",
    "%matplotlib inline\n",
    "import tensorflow as tf\n",
    "import datetime\n",
    "print(tf.config.list_physical_devices('GPU'))\n",
    "dm = io.loadmat('GazeCenterFS_vd.mat')['stim']\n",
    "\n",
    "# braincoder convention is time by x by y\n",
    "paradigm = np.rollaxis(dm, 2, 0)\n",
    "aspect_ratio = paradigm.shape[2] / paradigm.shape[1]\n",
    "x, y = np.meshgrid(np.linspace(-.75, .75, 10), np.linspace(-aspect_ratio *.75, aspect_ratio *.75, 10))\n",
    "parameters = pd.DataFrame({'x':x.ravel(),\n",
    "               'y':y.ravel(),\n",
    "               'sd':.2,\n",
    "               'amplitude':1,\n",
    "               'baseline':0.0}).astype(np.float32)\n",
    "\n",
    "y_grid, x_grid = np.meshgrid(np.linspace(-aspect_ratio, aspect_ratio, paradigm.shape[2]), \n",
    "                              np.linspace(-1., 1., paradigm.shape[1]))\n",
    "\n",
    "grid_coordinates = np.stack((x_grid.ravel().astype(np.float32), y_grid.ravel().astype(np.float32)), 1)\n",
    "from braincoder.models import GaussianPRF2DWithHRF\n",
    "from braincoder.hrf import SPMHRFModel\n",
    "model = GaussianPRF2DWithHRF(grid_coordinates, \n",
    "                      paradigm=paradigm,\n",
    "                     parameters=parameters,\n",
    "                      hrf_model=SPMHRFModel(tr=1.7))\n",
    "data = model.simulate(noise=3)\n",
    "data.plot(legend=False)\n",
    "sns.despine()\n",
    "from braincoder.optimize import ParameterFitter\n",
    "from braincoder.bprf_mcmc import BPRF\n",
    "model = GaussianPRF2DWithHRF(grid_coordinates, \n",
    "                      paradigm=paradigm,\n",
    "                     parameters=parameters,\n",
    "                      hrf_model=SPMHRFModel(tr=1.7))\n",
    "model2 = GaussianPRF2DWithHRF(grid_coordinates, \n",
    "                      paradigm=paradigm,\n",
    "                      hrf_model=SPMHRFModel(tr=1.7))\n",
    "\n",
    "bounds = {\n",
    "    'x' : [-5, 5],\n",
    "    'y' : [-5, 5],\n",
    "    'sd' : [0, 10],\n",
    "    'baseline' : [-2,2],\n",
    "    'amplitude' : [0, 100], \n",
    "}\n",
    "bfitter = BPRF(model=model2, data=data, )\n",
    "bfitter.add_priors_from_bounds(bounds)\n",
    "n_vx = 9\n",
    "init_pars = pd.DataFrame({    \n",
    "    'x' : np.zeros(n_vx),\n",
    "    'y' : np.zeros(n_vx),\n",
    "    'sd' : np.ones(n_vx),\n",
    "    'amplitude' : np.ones(n_vx),\n",
    "    'baseline' : np.zeros(n_vx),\n",
    "\n",
    "})"
   ]
  },
  {
   "cell_type": "code",
   "execution_count": 2,
   "id": "df46f750",
   "metadata": {},
   "outputs": [],
   "source": [
    "# bfitter.prep_for_fitting()"
   ]
  },
  {
   "cell_type": "code",
   "execution_count": 3,
   "id": "45f8596d",
   "metadata": {},
   "outputs": [],
   "source": [
    "\n",
    "# # Test timing \n",
    "# print('Timing')\n",
    "\n",
    "# start = datetime.datetime.now()\n",
    "# a = bfitter.fit(\n",
    "#     idx=[0], \n",
    "#     init_pars=init_pars,\n",
    "#     num_results=100,     \n",
    "    \n",
    "#     #ols_pars,\n",
    "#     # fixed_pars={'baseline' : 0.0}\n",
    "# )\n",
    "# print(datetime.datetime.now() - start)\n"
   ]
  },
  {
   "cell_type": "code",
   "execution_count": 4,
   "id": "a7ab3735",
   "metadata": {},
   "outputs": [
    {
     "name": "stdout",
     "output_type": "stream",
     "text": [
      "Working with chunk size of 7407\n",
      "Using correlation cost!\n"
     ]
    },
    {
     "name": "stderr",
     "output_type": "stream",
     "text": [
      "100%|██████████| 2/2 [00:01<00:00,  1.75it/s]\n"
     ]
    },
    {
     "name": "stdout",
     "output_type": "stream",
     "text": [
      "Number of problematic voxels (mask): 0\n",
      "Number of voxels remaining (mask): 100\n"
     ]
    },
    {
     "name": "stderr",
     "output_type": "stream",
     "text": [
      "Current R2: 0.78784/Best R2: 0.78784:  17%|█▋        | 169/1000 [00:05<00:26, 31.94it/s]"
     ]
    },
    {
     "name": "stdout",
     "output_type": "stream",
     "text": [
      "0:00:06.711681\n"
     ]
    },
    {
     "name": "stderr",
     "output_type": "stream",
     "text": [
      "\n"
     ]
    }
   ],
   "source": [
    "cfitter = ParameterFitter(model, data, paradigm)\n",
    "timenow = datetime.datetime.now()\n",
    "grid_pars = cfitter.fit_grid(x=np.linspace(-1, 1, 20), \n",
    "                            y=np.linspace(-aspect_ratio, aspect_ratio, 20),\n",
    "                            sd=np.linspace(0.01, 1., 20),\n",
    "                            baseline=[0.0],\n",
    "                            amplitude=[1.0],\n",
    "                            use_correlation_cost=True)\n",
    "ols_pars = cfitter.refine_baseline_and_amplitude(grid_pars)\n",
    "refined_pars = cfitter.fit(init_pars=ols_pars)\n",
    "print(datetime.datetime.now() - timenow)"
   ]
  },
  {
   "cell_type": "code",
   "execution_count": 3,
   "id": "48705fa2",
   "metadata": {},
   "outputs": [
    {
     "data": {
      "text/plain": [
       "0.0625976234275891"
      ]
     },
     "execution_count": 3,
     "metadata": {},
     "output_type": "execute_result"
    }
   ],
   "source": [
    "import numpy as np\n",
    "np.nanpercentile(np.random.randn(1000), 50)"
   ]
  },
  {
   "cell_type": "code",
   "execution_count": null,
   "id": "af785738",
   "metadata": {},
   "outputs": [],
   "source": [
    "bfitter.mcmc_sampler[0]"
   ]
  },
  {
   "cell_type": "code",
   "execution_count": null,
   "id": "a269c232",
   "metadata": {},
   "outputs": [],
   "source": [
    "import corner\n",
    "labels = ['x', 'y', 'sd', 'amplitude', 'baseline']\n",
    "truths = [parameters.iloc[0,:][l] for l in labels]\n",
    "_ = corner.corner(\n",
    "    bfitter.mcmc_sampler[0].iloc[0:,:],\n",
    "    labels=labels,\n",
    "    truths=parameters.iloc[0,:]\n",
    "\n",
    "    )"
   ]
  },
  {
   "cell_type": "code",
   "execution_count": null,
   "id": "a137be0c",
   "metadata": {},
   "outputs": [],
   "source": [
    "truths"
   ]
  },
  {
   "cell_type": "code",
   "execution_count": null,
   "id": "4cd776d0",
   "metadata": {},
   "outputs": [],
   "source": [
    "from braincoder.utils.visualize import quick_plot\n",
    "quick_plot(\n",
    "    bfitter.model, \n",
    "    parameters=bfitter.mcmc_sampler[0].iloc[-1,:],\n",
    "    data=data.iloc[:,0],\n",
    ")\n",
    "bfitter.mcmc_sampler[0].iloc[-1,:]\n",
    "plt.gca().set_ylim(-.18, 1)\n",
    "# quick_plot(\n",
    "#     model2, \n",
    "#     parameters=parameters.iloc[1,:],\n",
    "#     data=data.iloc[:,1],\n",
    "# )"
   ]
  },
  {
   "cell_type": "code",
   "execution_count": null,
   "id": "0041c3ba",
   "metadata": {},
   "outputs": [],
   "source": [
    "bfitter.mcmc_sampler[0].iloc[50,:]"
   ]
  },
  {
   "cell_type": "code",
   "execution_count": null,
   "id": "e7bc53df",
   "metadata": {},
   "outputs": [],
   "source": [
    "parameters"
   ]
  }
 ],
 "metadata": {
  "kernelspec": {
   "display_name": "tf-metal",
   "language": "python",
   "name": "python3"
  },
  "language_info": {
   "codemirror_mode": {
    "name": "ipython",
    "version": 3
   },
   "file_extension": ".py",
   "mimetype": "text/x-python",
   "name": "python",
   "nbconvert_exporter": "python",
   "pygments_lexer": "ipython3",
   "version": "3.9.21"
  }
 },
 "nbformat": 4,
 "nbformat_minor": 5
}

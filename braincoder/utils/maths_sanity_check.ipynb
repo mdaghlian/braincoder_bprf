{
 "cells": [
  {
   "cell_type": "code",
   "execution_count": 1,
   "id": "35a73c86",
   "metadata": {},
   "outputs": [
    {
     "name": "stdout",
     "output_type": "stream",
     "text": [
      "The autoreload extension is already loaded. To reload it, use:\n",
      "  %reload_ext autoreload\n"
     ]
    },
    {
     "name": "stderr",
     "output_type": "stream",
     "text": [
      "2025-02-11 15:18:03.624828: E tensorflow/compiler/xla/stream_executor/cuda/cuda_dnn.cc:9342] Unable to register cuDNN factory: Attempting to register factory for plugin cuDNN when one has already been registered\n",
      "2025-02-11 15:18:03.624878: E tensorflow/compiler/xla/stream_executor/cuda/cuda_fft.cc:609] Unable to register cuFFT factory: Attempting to register factory for plugin cuFFT when one has already been registered\n",
      "2025-02-11 15:18:03.624890: E tensorflow/compiler/xla/stream_executor/cuda/cuda_blas.cc:1518] Unable to register cuBLAS factory: Attempting to register factory for plugin cuBLAS when one has already been registered\n",
      "2025-02-11 15:18:03.635043: I tensorflow/core/platform/cpu_feature_guard.cc:182] This TensorFlow binary is optimized to use available CPU instructions in performance-critical operations.\n",
      "To enable the following instructions: SSE4.1 SSE4.2 AVX AVX2 FMA, in other operations, rebuild TensorFlow with the appropriate compiler flags.\n"
     ]
    }
   ],
   "source": [
    "%load_ext autoreload\n",
    "%autoreload 2\n",
    "# Sanity check on implementation of \n",
    "import tensorflow as tf\n",
    "import tensorflow_probability as tfp\n",
    "import numpy as np\n",
    "import time\n",
    "# Set a limit on the memory usage of the GPU\n",
    "gpus = tf.config.experimental.list_physical_devices('GPU')\n",
    "if gpus:\n",
    "    try:\n",
    "        for gpu in gpus:\n",
    "            tf.config.experimental.set_memory_growth(gpu, True)\n",
    "            tf.config.experimental.set_virtual_device_configuration(\n",
    "                gpu,\n",
    "                [tf.config.experimental.VirtualDeviceConfiguration(memory_limit=4096)])\n",
    "    except RuntimeError as e:\n",
    "        print(e)\n"
   ]
  },
  {
   "cell_type": "markdown",
   "id": "d8037956",
   "metadata": {},
   "source": [
    "# Ensure that log prob calculations are the same as tfp implementation & faster"
   ]
  },
  {
   "cell_type": "code",
   "execution_count": 2,
   "id": "8d71eb48",
   "metadata": {},
   "outputs": [
    {
     "name": "stderr",
     "output_type": "stream",
     "text": [
      "2025-02-11 15:18:11.982695: I tensorflow/core/common_runtime/gpu/gpu_device.cc:1886] Created device /job:localhost/replica:0/task:0/device:GPU:0 with 4096 MB memory:  -> device: 0, name: Tesla K40m, pci bus id: 0000:03:00.0, compute capability: 3.5\n"
     ]
    }
   ],
   "source": [
    "# Define your array (as a TensorFlow tensor)\n",
    "n_rows = 10000 # i.e., number of voxels \n",
    "n_cols = 200 # i.e., number of samples in timeseries\n",
    "num_iterations = 1000\n",
    "data = tf.constant(np.random.rand(n_rows, n_cols), dtype=tf.float32)\n",
    "scale_values = tf.constant(np.random.rand(n_rows, 1), dtype=tf.float32)\n",
    "dof_values = tf.constant(np.random.rand(n_rows, 1), dtype=tf.float32)"
   ]
  },
  {
   "cell_type": "code",
   "execution_count": 3,
   "id": "0464cf02",
   "metadata": {},
   "outputs": [
    {
     "name": "stdout",
     "output_type": "stream",
     "text": [
      "Trying with GPU\n",
      "Custom log probability calculation time over 1000 iterations: 0.946002 seconds\n",
      "TFP log probability calculation time over 1000 iterations: 2.083450 seconds\n",
      "Custom method is  2.202 x faster\n",
      "     tfd,        custom\n",
      "    -1.360,     -1.360\n",
      "    -0.358,     -0.358\n",
      "    -0.588,     -0.588\n",
      "    -8.465,     -8.465\n",
      "    -2.790,     -2.790\n",
      "     0.141,      0.141\n",
      "    -1.126,     -1.126\n",
      "    -2.986,     -2.986\n",
      "    -2.169,     -2.169\n",
      "Trying with CPU\n",
      "Custom log probability calculation time over 1000 iterations: 2.680341 seconds\n",
      "TFP log probability calculation time over 1000 iterations: 3.291053 seconds\n",
      "Custom method is  1.228 x faster\n",
      "     tfd,        custom\n",
      "    -1.360,     -1.360\n",
      "    -0.358,     -0.358\n",
      "    -0.588,     -0.588\n",
      "    -8.465,     -8.465\n",
      "    -2.790,     -2.790\n",
      "     0.141,      0.141\n",
      "    -1.126,     -1.126\n",
      "    -2.986,     -2.986\n",
      "    -2.169,     -2.169\n"
     ]
    }
   ],
   "source": [
    "\n",
    "\n",
    "from braincoder.utils.math import calculate_log_prob_gauss\n",
    "for device in ['GPU', 'CPU']:\n",
    "    print(f'Trying with {device}')\n",
    "    with tf.device(f'/{device}:0'):\n",
    "        # Timing the custom log probability calculation\n",
    "        start_time = time.time()\n",
    "        for _ in range(num_iterations):\n",
    "            calculate_log_prob_gauss(data, scale_values)  # Now correctly broadcasted\n",
    "        time_custom = time.time() - start_time\n",
    "        output_custom = calculate_log_prob_gauss(data, scale_values)\n",
    "        # Timing the TFP log probability calculation\n",
    "        start_time = time.time()\n",
    "        for _ in range(num_iterations):\n",
    "            normal_dist = tfp.distributions.Normal(loc=0.0, scale=scale_values)  # Correct shape\n",
    "            normal_dist.log_prob(data)  # Correct shape\n",
    "        time_tfd = time.time() - start_time\n",
    "        output_tfd = normal_dist.log_prob(data)\n",
    "        # Print the results\n",
    "        print(f\"Custom log probability calculation time over {num_iterations} iterations: {time_custom:.6f} seconds\")\n",
    "        print(f\"TFP log probability calculation time over {num_iterations} iterations: {time_tfd:.6f} seconds\")\n",
    "        print(f\"Custom method is  {time_tfd/time_custom:.3f} x faster\")\n",
    "        print(f\"     tfd,        custom\")\n",
    "        for i1 in range(3):\n",
    "            for i2 in range(3):\n",
    "                print(f'{output_tfd[i1,i2]:10.3f}, {output_custom[i1,i2]:10.3f}')\n"
   ]
  },
  {
   "cell_type": "code",
   "execution_count": 4,
   "id": "9e41902e",
   "metadata": {},
   "outputs": [
    {
     "name": "stdout",
     "output_type": "stream",
     "text": [
      "Trying with GPU\n",
      "Custom log probability calculation time over 1000 iterations: 3.415824 seconds\n",
      "TFP log probability calculation time over 1000 iterations: 9.423873 seconds\n",
      "Custom method is  2.759 x faster\n",
      "     tfd,        custom\n",
      "    -2.125,     -2.125\n",
      "    -1.341,     -1.341\n",
      "    -1.622,     -1.622\n",
      "    -2.350,     -2.350\n",
      "    -1.653,     -1.653\n",
      "    -0.537,     -0.537\n",
      "    -1.928,     -1.928\n",
      "    -2.485,     -2.485\n",
      "    -2.296,     -2.296\n",
      "Trying with CPU\n",
      "Custom log probability calculation time over 1000 iterations: 8.010862 seconds\n",
      "TFP log probability calculation time over 1000 iterations: 12.927133 seconds\n",
      "Custom method is  1.614 x faster\n",
      "     tfd,        custom\n",
      "    -2.125,     -2.125\n",
      "    -1.341,     -1.341\n",
      "    -1.622,     -1.622\n",
      "    -2.350,     -2.350\n",
      "    -1.653,     -1.653\n",
      "    -0.537,     -0.537\n",
      "    -1.928,     -1.928\n",
      "    -2.485,     -2.485\n",
      "    -2.296,     -2.296\n"
     ]
    }
   ],
   "source": [
    "from braincoder.utils.math import calculate_log_prob_t\n",
    "for device in ['GPU', 'CPU']:\n",
    "    print(f'Trying with {device}')\n",
    "    with tf.device(f'/{device}:0'):\n",
    "        # Timing the custom log probability calculation\n",
    "        start_time = time.time()\n",
    "        for _ in range(num_iterations):\n",
    "            calculate_log_prob_t(data, scale_values, dof_values)  # Now correctly broadcasted\n",
    "        time_custom = time.time() - start_time\n",
    "        output_custom = calculate_log_prob_t(data, scale_values, dof_values)\n",
    "\n",
    "        # Timing the TFP log probability calculation\n",
    "        start_time = time.time()\n",
    "        for _ in range(num_iterations):\n",
    "            t_dist = tfp.distributions.StudentT(df=dof_values, loc=0.0, scale=scale_values)  # Correct shape\n",
    "            t_dist.log_prob(data)  # Correct shape\n",
    "        time_tfd = time.time() - start_time\n",
    "        output_tfd = t_dist.log_prob(data)\n",
    "\n",
    "        # Print the results\n",
    "        print(f\"Custom log probability calculation time over {num_iterations} iterations: {time_custom:.6f} seconds\")\n",
    "        print(f\"TFP log probability calculation time over {num_iterations} iterations: {time_tfd:.6f} seconds\")\n",
    "        print(f\"Custom method is  {time_tfd/time_custom:.3f} x faster\")\n",
    "        print(f\"     tfd,        custom\")\n",
    "        for i1 in range(3):\n",
    "            for i2 in range(3):\n",
    "                print(f'{output_tfd[i1,i2]:10.3f}, {output_custom[i1,i2]:10.3f}')\n"
   ]
  }
 ],
 "metadata": {
  "kernelspec": {
   "display_name": "braincoder_b",
   "language": "python",
   "name": "python3"
  },
  "language_info": {
   "codemirror_mode": {
    "name": "ipython",
    "version": 3
   },
   "file_extension": ".py",
   "mimetype": "text/x-python",
   "name": "python",
   "nbconvert_exporter": "python",
   "pygments_lexer": "ipython3",
   "version": "3.11.11"
  }
 },
 "nbformat": 4,
 "nbformat_minor": 5
}
